{
 "cells": [
  {
   "cell_type": "markdown",
   "id": "0db45ea7",
   "metadata": {},
   "source": [
    "# Learning a complicated function with a simple neural network"
   ]
  },
  {
   "cell_type": "markdown",
   "id": "c89c620e",
   "metadata": {},
   "source": [
    "The purpose of this notebook is to implement a deep neural network using Keras to learn a complicated function (function interpolation)"
   ]
  },
  {
   "cell_type": "code",
   "execution_count": 13,
   "id": "a3800d8f",
   "metadata": {},
   "outputs": [
    {
     "name": "stdout",
     "output_type": "stream",
     "text": [
      "3.8.10\n"
     ]
    }
   ],
   "source": [
    "import numpy as np\n",
    "from tensorflow import keras\n",
    "import matplotlib.pyplot as plt\n",
    "\n",
    "layers = keras.layers\n",
    "from platform import python_version\n",
    "\n",
    "print(python_version())"
   ]
  },
  {
   "cell_type": "code",
   "execution_count": 14,
   "id": "fefb7141",
   "metadata": {},
   "outputs": [
    {
     "data": {
      "text/plain": [
       "'2.3.0'"
      ]
     },
     "execution_count": 14,
     "metadata": {},
     "output_type": "execute_result"
    }
   ],
   "source": [
    "import tensorflow as tf\n",
    "tf.version.VERSION"
   ]
  },
  {
   "cell_type": "markdown",
   "id": "6804d351",
   "metadata": {},
   "source": [
    "### Generation of data using a complecated funciton"
   ]
  },
  {
   "cell_type": "code",
   "execution_count": 15,
   "id": "3f660a6e",
   "metadata": {},
   "outputs": [],
   "source": [
    "def some_complicated_function(x):  # definition of a complecated funciton\n",
    "    return (\n",
    "        (np.abs(x)) ** 0.5\n",
    "        + 0.1 * x\n",
    "        + 0.01 * x ** 2\n",
    "        + 1\n",
    "        - np.sin(x)\n",
    "        + 0.5 * np.exp(x / 10.0)\n",
    "        ) / (0.5 + np.abs(np.cos(x)))"
   ]
  },
  {
   "cell_type": "markdown",
   "id": "16ebf7c4",
   "metadata": {},
   "source": [
    "##### Simulation of train data"
   ]
  },
  {
   "cell_type": "code",
   "execution_count": 16,
   "id": "f34d0356",
   "metadata": {},
   "outputs": [],
   "source": [
    "N_train = 10 ** 4  # number of training samples\n",
    "# Note: \"[:, np.newaxis]\" reshapes array to (N,1) as required by our DNN (we input one feature per sample)\n",
    "xtrain = np.random.uniform(-10, 10, N_train)[:, np.newaxis]\n",
    "ytrain = some_complicated_function(xtrain) + np.random.randn(xtrain.shape[0])  # train data includes some noise"
   ]
  },
  {
   "cell_type": "code",
   "execution_count": 17,
   "id": "2f1eac85",
   "metadata": {},
   "outputs": [
    {
     "name": "stdout",
     "output_type": "stream",
     "text": [
      "xtrain.shape (10000, 1)\n",
      "ytrain.shape (10000, 10000)\n"
     ]
    }
   ],
   "source": [
    "print(\"xtrain.shape\", xtrain.shape)\n",
    "print(\"ytrain.shape\", ytrain.shape)"
   ]
  },
  {
   "cell_type": "markdown",
   "id": "b53d2104",
   "metadata": {},
   "source": [
    "##### Simulation of test data"
   ]
  },
  {
   "cell_type": "code",
   "execution_count": 6,
   "id": "ea6ececa",
   "metadata": {},
   "outputs": [],
   "source": [
    "N_test = 10000  # number of testing samples\n",
    "xtest = np.linspace(-10, 10, N_test)\n",
    "ytest = some_complicated_function(xtest)"
   ]
  },
  {
   "cell_type": "code",
   "execution_count": 7,
   "id": "f079d947",
   "metadata": {},
   "outputs": [
    {
     "name": "stdout",
     "output_type": "stream",
     "text": [
      "xtest.shape (10000,)\n",
      "ytest.shape (10000,)\n"
     ]
    }
   ],
   "source": [
    "print(\"xtest.shape\", xtest.shape)\n",
    "print(\"ytest.shape\", ytest.shape)"
   ]
  },
  {
   "cell_type": "markdown",
   "id": "07aa1ed9",
   "metadata": {},
   "source": [
    "##### Plot of the function we want to interpolate"
   ]
  },
  {
   "cell_type": "code",
   "execution_count": 8,
   "id": "ea40d141",
   "metadata": {},
   "outputs": [
    {
     "data": {
      "text/plain": [
       "[<matplotlib.lines.Line2D at 0x2b3e88ee8e0>]"
      ]
     },
     "execution_count": 8,
     "metadata": {},
     "output_type": "execute_result"
    },
    {
     "data": {
      "image/png": "[encoded data removed]",
      "text/plain": [
       "<Figure size 432x288 with 1 Axes>"
      ]
     },
     "metadata": {
      "needs_background": "light"
     },
     "output_type": "display_data"
    }
   ],
   "source": [
    "plt.plot(xtest, ytest)"
   ]
  },
  {
   "cell_type": "markdown",
   "id": "203b37c2",
   "metadata": {},
   "source": [
    "### Model definition"
   ]
  },
  {
   "cell_type": "markdown",
   "id": "f4d6093a",
   "metadata": {},
   "source": [
    "**TASK 1**: In the code below try to set values for relevant hyperparameters, such as the number of nodes, the number of layers, and choose an activation function. Also, using the module **keras.regularizers** try to set parameter norm penalties or add a dropout layer via **layers.Dropout(fraction)** for regularizing your model."
   ]
  },
  {
   "cell_type": "code",
   "execution_count": 22,
   "id": "5a2ff2bc",
   "metadata": {},
   "outputs": [
    {
     "data": {
      "text/plain": [
       "1"
      ]
     },
     "execution_count": 22,
     "metadata": {},
     "output_type": "execute_result"
    }
   ],
   "source": [
    "xtrain.shape[1]"
   ]
  },
  {
   "cell_type": "code",
   "execution_count": 18,
   "id": "19fe3d39",
   "metadata": {},
   "outputs": [
    {
     "name": "stdout",
     "output_type": "stream",
     "text": [
      "Model: \"1Dfit\"\n",
      "_________________________________________________________________\n",
      "Layer (type)                 Output Shape              Param #   \n",
      "=================================================================\n",
      "dense (Dense)                (None, 50)                100       \n",
      "_________________________________________________________________\n",
      "dense_1 (Dense)              (None, 50)                2550      \n",
      "_________________________________________________________________\n",
      "dense_2 (Dense)              (None, 50)                2550      \n",
      "_________________________________________________________________\n",
      "dense_3 (Dense)              (None, 50)                2550      \n",
      "_________________________________________________________________\n",
      "dense_4 (Dense)              (None, 1)                 51        \n",
      "=================================================================\n",
      "Total params: 7,801\n",
      "Trainable params: 7,801\n",
      "Non-trainable params: 0\n",
      "_________________________________________________________________\n",
      "None\n"
     ]
    }
   ],
   "source": [
    "nb_nodes = 50\n",
    "nb_layers = 4\n",
    "activation = \"relu\"\n",
    "reg_strategy = keras.regularizers.l1_l2(l1=0.01, l2=0.01)  # use L1 and L2 regularization\n",
    "\n",
    "model = keras.models.Sequential(name=\"1Dfit\")\n",
    "model.add(layers.Dense(nb_nodes, activation=activation, kernel_regularizer=reg_strategy,\n",
    "                       input_dim=xtrain.shape[1]))\n",
    "\n",
    "for i in range(nb_layers - 1):\n",
    "    model.add(layers.Dense(nb_nodes, activation=activation, kernel_regularizer=reg_strategy))\n",
    "\n",
    "model.add(layers.Dense(1))\n",
    "\n",
    "print(model.summary())"
   ]
  },
  {
   "cell_type": "code",
   "execution_count": null,
   "id": "591d27e7",
   "metadata": {},
   "outputs": [],
   "source": []
  },
  {
   "cell_type": "markdown",
   "id": "541f059b",
   "metadata": {},
   "source": [
    "### Compile the model"
   ]
  },
  {
   "cell_type": "markdown",
   "id": "9db0f4bd",
   "metadata": {},
   "source": [
    "**TASK 2**: Complete the code below by choosing an objective (loss) function for this regression task and optimization method from **keras.optimizers**"
   ]
  },
  {
   "cell_type": "code",
   "execution_count": 19,
   "id": "bcae0ced",
   "metadata": {},
   "outputs": [],
   "source": [
    "adam = keras.optimizers.Adam(lr=0.001)  # learning rate = 0.001\n",
    "model.compile(loss=\"MeanSquaredError\", optimizer=adam)"
   ]
  },
  {
   "cell_type": "markdown",
   "id": "e9462bc5",
   "metadata": {},
   "source": [
    "### Train the model"
   ]
  },
  {
   "cell_type": "markdown",
   "id": "19b2a707",
   "metadata": {},
   "source": [
    "**TASK 3**: Complete the code below and train the network for a couple of epochs and save the model several times in between"
   ]
  },
  {
   "cell_type": "code",
   "execution_count": 20,
   "id": "bebf1bcc",
   "metadata": {
    "scrolled": false
   },
   "outputs": [
    {
     "name": "stdout",
     "output_type": "stream",
     "text": [
      "Epoch 1/100\n",
      "157/157 [==============================] - 1s 4ms/step - loss: 12.5478\n",
      "Epoch 2/100\n",
      "157/157 [==============================] - 1s 4ms/step - loss: 7.8241\n",
      "Epoch 3/100\n",
      "157/157 [==============================] - 1s 4ms/step - loss: 6.5058\n",
      "Epoch 4/100\n",
      "157/157 [==============================] - 1s 3ms/step - loss: 5.7546\n",
      "Epoch 5/100\n",
      "157/157 [==============================] - 1s 3ms/step - loss: 5.2154\n",
      "Epoch 6/100\n",
      "157/157 [==============================] - 1s 3ms/step - loss: 4.8531\n",
      "Epoch 7/100\n",
      "157/157 [==============================] - 1s 3ms/step - loss: 4.5963\n",
      "Epoch 8/100\n",
      "157/157 [==============================] - 1s 3ms/step - loss: 4.4149\n",
      "Epoch 9/100\n",
      "157/157 [==============================] - 1s 3ms/step - loss: 4.2810\n",
      "Epoch 10/100\n",
      "157/157 [==============================] - 1s 3ms/step - loss: 4.1852\n",
      "Epoch 11/100\n",
      "157/157 [==============================] - 1s 4ms/step - loss: 4.1100\n",
      "Epoch 12/100\n",
      "157/157 [==============================] - 1s 3ms/step - loss: 4.0573\n",
      "Epoch 13/100\n",
      "157/157 [==============================] - 1s 3ms/step - loss: 4.0031\n",
      "Epoch 14/100\n",
      "157/157 [==============================] - 1s 3ms/step - loss: 3.9597\n",
      "Epoch 15/100\n",
      "157/157 [==============================] - 1s 3ms/step - loss: 3.9121\n",
      "Epoch 16/100\n",
      "157/157 [==============================] - 1s 3ms/step - loss: 3.8681\n",
      "Epoch 17/100\n",
      "157/157 [==============================] - 1s 3ms/step - loss: 3.8138\n",
      "Epoch 18/100\n",
      "157/157 [==============================] - 1s 3ms/step - loss: 3.7698\n",
      "Epoch 19/100\n",
      "157/157 [==============================] - 1s 3ms/step - loss: 3.7336\n",
      "Epoch 20/100\n",
      "157/157 [==============================] - 1s 3ms/step - loss: 3.7071\n",
      "Epoch 21/100\n",
      "157/157 [==============================] - 1s 4ms/step - loss: 3.6805\n",
      "Epoch 22/100\n",
      "157/157 [==============================] - 1s 3ms/step - loss: 3.6648\n",
      "Epoch 23/100\n",
      "157/157 [==============================] - 1s 3ms/step - loss: 3.6482\n",
      "Epoch 24/100\n",
      "157/157 [==============================] - 1s 3ms/step - loss: 3.6284\n",
      "Epoch 25/100\n",
      "157/157 [==============================] - 1s 3ms/step - loss: 3.6181\n",
      "Epoch 26/100\n",
      "157/157 [==============================] - 1s 3ms/step - loss: 3.6057\n",
      "Epoch 27/100\n",
      "157/157 [==============================] - 0s 3ms/step - loss: 3.5923\n",
      "Epoch 28/100\n",
      "157/157 [==============================] - 1s 3ms/step - loss: 3.5879\n",
      "Epoch 29/100\n",
      "157/157 [==============================] - 1s 3ms/step - loss: 3.5725\n",
      "Epoch 30/100\n",
      "157/157 [==============================] - 1s 3ms/step - loss: 3.5599\n",
      "Epoch 31/100\n",
      "157/157 [==============================] - 1s 4ms/step - loss: 3.5507\n",
      "Epoch 32/100\n",
      "157/157 [==============================] - 1s 3ms/step - loss: 3.5420\n",
      "Epoch 33/100\n",
      "157/157 [==============================] - 1s 3ms/step - loss: 3.5281\n",
      "Epoch 34/100\n",
      "157/157 [==============================] - 1s 3ms/step - loss: 3.5224\n",
      "Epoch 35/100\n",
      "157/157 [==============================] - 1s 3ms/step - loss: 3.5136\n",
      "Epoch 36/100\n",
      "157/157 [==============================] - 1s 3ms/step - loss: 3.5131\n",
      "Epoch 37/100\n",
      "157/157 [==============================] - 1s 3ms/step - loss: 3.4957\n",
      "Epoch 38/100\n",
      "157/157 [==============================] - 1s 3ms/step - loss: 3.4864\n",
      "Epoch 39/100\n",
      "157/157 [==============================] - 1s 3ms/step - loss: 3.4821\n",
      "Epoch 40/100\n",
      "157/157 [==============================] - 1s 4ms/step - loss: 3.4661\n",
      "Epoch 41/100\n",
      "157/157 [==============================] - 1s 3ms/step - loss: 3.4625\n",
      "Epoch 42/100\n",
      "157/157 [==============================] - 0s 3ms/step - loss: 3.4567\n",
      "Epoch 43/100\n",
      "157/157 [==============================] - 1s 4ms/step - loss: 3.4683\n",
      "Epoch 44/100\n",
      "157/157 [==============================] - 1s 3ms/step - loss: 3.4426\n",
      "Epoch 45/100\n",
      "157/157 [==============================] - 1s 3ms/step - loss: 3.4412\n",
      "Epoch 46/100\n",
      "157/157 [==============================] - 0s 3ms/step - loss: 3.4379\n",
      "Epoch 47/100\n",
      "157/157 [==============================] - 1s 4ms/step - loss: 3.4283\n",
      "Epoch 48/100\n",
      "157/157 [==============================] - 1s 3ms/step - loss: 3.4242\n",
      "Epoch 49/100\n",
      "157/157 [==============================] - 1s 3ms/step - loss: 3.4215\n",
      "Epoch 50/100\n",
      "157/157 [==============================] - 1s 4ms/step - loss: 3.4137\n",
      "Epoch 51/100\n",
      "157/157 [==============================] - 1s 4ms/step - loss: 3.4154\n",
      "Epoch 52/100\n",
      "157/157 [==============================] - 1s 4ms/step - loss: 3.4070\n",
      "Epoch 53/100\n",
      "157/157 [==============================] - 1s 3ms/step - loss: 3.4023\n",
      "Epoch 54/100\n",
      "157/157 [==============================] - 1s 3ms/step - loss: 3.3984\n",
      "Epoch 55/100\n",
      "157/157 [==============================] - 0s 3ms/step - loss: 3.3946\n",
      "Epoch 56/100\n",
      "157/157 [==============================] - 1s 3ms/step - loss: 3.3898\n",
      "Epoch 57/100\n",
      "157/157 [==============================] - 0s 3ms/step - loss: 3.3918\n",
      "Epoch 58/100\n",
      "157/157 [==============================] - 1s 4ms/step - loss: 3.3861\n",
      "Epoch 59/100\n",
      "157/157 [==============================] - 1s 3ms/step - loss: 3.3779\n",
      "Epoch 60/100\n",
      "157/157 [==============================] - 1s 3ms/step - loss: 3.3735\n",
      "Epoch 61/100\n",
      "157/157 [==============================] - 0s 3ms/step - loss: 3.3751\n",
      "Epoch 62/100\n",
      "157/157 [==============================] - 1s 3ms/step - loss: 3.3638\n",
      "Epoch 63/100\n",
      "157/157 [==============================] - 1s 3ms/step - loss: 3.3646\n",
      "Epoch 64/100\n",
      "157/157 [==============================] - 1s 3ms/step - loss: 3.3568\n",
      "Epoch 65/100\n",
      "157/157 [==============================] - 0s 3ms/step - loss: 3.3478\n",
      "Epoch 66/100\n",
      "157/157 [==============================] - 0s 3ms/step - loss: 3.3363\n",
      "Epoch 67/100\n",
      "157/157 [==============================] - 1s 3ms/step - loss: 3.3199\n",
      "Epoch 68/100\n",
      "157/157 [==============================] - 1s 3ms/step - loss: 3.3014\n",
      "Epoch 69/100\n",
      "157/157 [==============================] - 0s 3ms/step - loss: 3.2746\n",
      "Epoch 70/100\n",
      "157/157 [==============================] - 1s 3ms/step - loss: 3.2544\n",
      "Epoch 71/100\n",
      "157/157 [==============================] - 1s 3ms/step - loss: 3.2220\n",
      "Epoch 72/100\n",
      "157/157 [==============================] - 1s 3ms/step - loss: 3.1961\n",
      "Epoch 73/100\n",
      "157/157 [==============================] - 0s 3ms/step - loss: 3.1599\n",
      "Epoch 74/100\n",
      "157/157 [==============================] - 1s 3ms/step - loss: 3.1345\n",
      "Epoch 75/100\n",
      "157/157 [==============================] - 1s 3ms/step - loss: 3.0999\n",
      "Epoch 76/100\n",
      "157/157 [==============================] - 1s 3ms/step - loss: 3.0793\n",
      "Epoch 77/100\n",
      "157/157 [==============================] - 1s 4ms/step - loss: 3.0504\n",
      "Epoch 78/100\n",
      "157/157 [==============================] - 1s 3ms/step - loss: 3.0359\n",
      "Epoch 79/100\n",
      "157/157 [==============================] - 0s 3ms/step - loss: 3.0131\n",
      "Epoch 80/100\n",
      "157/157 [==============================] - 0s 3ms/step - loss: 3.0033\n",
      "Epoch 81/100\n",
      "157/157 [==============================] - 1s 4ms/step - loss: 2.9983\n",
      "Epoch 82/100\n",
      "157/157 [==============================] - 1s 4ms/step - loss: 2.9823\n",
      "Epoch 83/100\n",
      "157/157 [==============================] - 0s 3ms/step - loss: 2.9655\n",
      "Epoch 84/100\n",
      "157/157 [==============================] - 0s 3ms/step - loss: 2.9701\n",
      "Epoch 85/100\n",
      "157/157 [==============================] - 0s 3ms/step - loss: 2.9570\n",
      "Epoch 86/100\n",
      "157/157 [==============================] - 1s 3ms/step - loss: 2.9576\n",
      "Epoch 87/100\n",
      "157/157 [==============================] - 1s 3ms/step - loss: 2.9499\n",
      "Epoch 88/100\n",
      "157/157 [==============================] - 0s 3ms/step - loss: 2.9553\n",
      "Epoch 89/100\n",
      "157/157 [==============================] - 1s 3ms/step - loss: 2.9486\n",
      "Epoch 90/100\n",
      "157/157 [==============================] - 1s 3ms/step - loss: 2.9399\n",
      "Epoch 91/100\n",
      "157/157 [==============================] - 1s 3ms/step - loss: 2.9377\n",
      "Epoch 92/100\n",
      "157/157 [==============================] - 1s 4ms/step - loss: 2.9281\n",
      "Epoch 93/100\n",
      "157/157 [==============================] - 1s 3ms/step - loss: 2.9265\n",
      "Epoch 94/100\n",
      "157/157 [==============================] - 0s 3ms/step - loss: 2.9234\n",
      "Epoch 95/100\n",
      "157/157 [==============================] - 1s 3ms/step - loss: 2.9189\n",
      "Epoch 96/100\n",
      "157/157 [==============================] - 1s 3ms/step - loss: 2.9131\n",
      "Epoch 97/100\n",
      "157/157 [==============================] - 0s 3ms/step - loss: 2.9098\n",
      "Epoch 98/100\n",
      "157/157 [==============================] - 1s 3ms/step - loss: 2.9037\n",
      "Epoch 99/100\n"
     ]
    },
    {
     "name": "stdout",
     "output_type": "stream",
     "text": [
      "157/157 [==============================] - 1s 3ms/step - loss: 2.8965\n",
      "Epoch 100/100\n",
      "157/157 [==============================] - 1s 3ms/step - loss: 2.8865\n"
     ]
    }
   ],
   "source": [
    "epochs = 100\n",
    "save_period = 20  # after how many epochs the model should be saved?\n",
    "\n",
    "chkpnt_saver = keras.callbacks.ModelCheckpoint(\"weights-{epoch:02d}.hdf5\", save_weights_only=True, save_freq=save_period)\n",
    "\n",
    "results = model.fit(\n",
    "    xtrain,\n",
    "    ytrain,\n",
    "    batch_size=64,\n",
    "    epochs=epochs,\n",
    "    verbose=1,\n",
    "    callbacks=[chkpnt_saver]\n",
    "    )"
   ]
  },
  {
   "cell_type": "markdown",
   "id": "5f5e0e05",
   "metadata": {},
   "source": [
    "Compare the performance of the model during the training. You may use the skeleton below:"
   ]
  },
  {
   "cell_type": "code",
   "execution_count": 21,
   "id": "c2e166a1",
   "metadata": {},
   "outputs": [
    {
     "data": {
      "image/png": "[encoded data removed]",
      "text/plain": [
       "<Figure size 864x576 with 2 Axes>"
      ]
     },
     "metadata": {
      "needs_background": "light"
     },
     "output_type": "display_data"
    }
   ],
   "source": [
    "fig, (ax1, ax2) = plt.subplots(nrows=2, figsize=(12, 8))\n",
    "\n",
    "ax1.plot(xtest, ytest, color=\"black\", label=\"data\")\n",
    "saved_epochs = range(save_period, epochs + 1, save_period)\n",
    "\n",
    "colors = [plt.cm.jet((i + 1) / float(len(saved_epochs) + 1)) for i in range(len(saved_epochs))]\n",
    "\n",
    "for i, epoch in enumerate(saved_epochs):\n",
    "    model.load_weights(\"weights-{epoch:02d}.hdf5\".format(epoch=epoch))\n",
    "    ypredict = model.predict(xtest).squeeze()\n",
    "    ax1.plot(xtest.squeeze(), ypredict, color=colors[i], label=epoch)\n",
    "    ax2.plot(epoch, results.history[\"loss\"][epoch - 1], color=colors[i], marker=\"o\")\n",
    "\n",
    "ax1.set(xlabel=\"x\", ylabel=\"some_complicated_function(x)\", xlim=(-10, 13), title=\"\")\n",
    "ax1.grid(True)\n",
    "ax1.legend(loc=\"upper right\", title=\"Epochs\")\n",
    "\n",
    "ax2.plot(results.history[\"loss\"], color=\"black\")\n",
    "ax2.set(xlabel=\"epoch\", ylabel=\"loss\")\n",
    "ax2.grid(True)\n",
    "ax2.semilogy()\n",
    "\n",
    "plt.show()"
   ]
  },
  {
   "cell_type": "code",
   "execution_count": null,
   "id": "a0f663cd",
   "metadata": {},
   "outputs": [],
   "source": []
  },
  {
   "cell_type": "code",
   "execution_count": null,
   "id": "722af698",
   "metadata": {},
   "outputs": [],
   "source": []
  }
 ],
 "metadata": {
  "kernelspec": {
   "display_name": "Python 3",
   "language": "python",
   "name": "python3"
  },
  "language_info": {
   "codemirror_mode": {
    "name": "ipython",
    "version": 3
   },
   "file_extension": ".py",
   "mimetype": "text/x-python",
   "name": "python",
   "nbconvert_exporter": "python",
   "pygments_lexer": "ipython3",
   "version": "3.8.10"
  }
 },
 "nbformat": 4,
 "nbformat_minor": 5
}
