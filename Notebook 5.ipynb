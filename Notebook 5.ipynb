{
 "cells": [
  {
   "cell_type": "markdown",
   "id": "0db45ea7",
   "metadata": {},
   "source": [
    "# Learning a complicated function with a simple neural network"
   ]
  },
  {
   "cell_type": "markdown",
   "id": "c89c620e",
   "metadata": {},
   "source": [
    "The purpose of this notebook is to implement a deep neural network using Keras to learn a complicated function (function interpolation)"
   ]
  },
  {
   "cell_type": "code",
   "execution_count": 1,
   "id": "a3800d8f",
   "metadata": {},
   "outputs": [],
   "source": [
    "import numpy as np\n",
    "from tensorflow import keras\n",
    "import matplotlib.pyplot as plt\n",
    "\n",
    "layers = keras.layers"
   ]
  },
  {
   "cell_type": "markdown",
   "id": "6804d351",
   "metadata": {},
   "source": [
    "### Generation of data using a complecated funciton"
   ]
  },
  {
   "cell_type": "code",
   "execution_count": 2,
   "id": "3f660a6e",
   "metadata": {},
   "outputs": [],
   "source": [
    "def some_complicated_function(x):  # definition of a complecated funciton\n",
    "    return (\n",
    "        (np.abs(x)) ** 0.5\n",
    "        + 0.1 * x\n",
    "        + 0.01 * x ** 2\n",
    "        + 1\n",
    "        - np.sin(x)\n",
    "        + 0.5 * np.exp(x / 10.0)\n",
    "        ) / (0.5 + np.abs(np.cos(x)))"
   ]
  },
  {
   "cell_type": "markdown",
   "id": "16ebf7c4",
   "metadata": {},
   "source": [
    "##### Simulation of train data"
   ]
  },
  {
   "cell_type": "code",
   "execution_count": 3,
   "id": "f34d0356",
   "metadata": {},
   "outputs": [],
   "source": [
    "N_train = 10 ** 4  # number of training samples\n",
    "# Note: \"[:, np.newaxis]\" reshapes array to (N,1) as required by our DNN (we input one feature per sample)\n",
    "xtrain = np.random.uniform(-10, 10, N_train)[:, np.newaxis]\n",
    "ytrain = some_complicated_function(xtrain) + np.random.randn(xtrain.shape[0])  # train data includes some noise"
   ]
  },
  {
   "cell_type": "code",
   "execution_count": 4,
   "id": "2f1eac85",
   "metadata": {},
   "outputs": [
    {
     "name": "stdout",
     "output_type": "stream",
     "text": [
      "xtrain.shape (10000, 1)\n",
      "ytrain.shape (10000, 10000)\n"
     ]
    }
   ],
   "source": [
    "print(\"xtrain.shape\", xtrain.shape)\n",
    "print(\"ytrain.shape\", ytrain.shape)"
   ]
  },
  {
   "cell_type": "markdown",
   "id": "b53d2104",
   "metadata": {},
   "source": [
    "##### Simulation of test data"
   ]
  },
  {
   "cell_type": "code",
   "execution_count": 5,
   "id": "ea6ececa",
   "metadata": {},
   "outputs": [],
   "source": [
    "N_test = 10000  # number of testing samples\n",
    "xtest = np.linspace(-10, 10, N_test)\n",
    "ytest = some_complicated_function(xtest)"
   ]
  },
  {
   "cell_type": "code",
   "execution_count": 6,
   "id": "f079d947",
   "metadata": {},
   "outputs": [
    {
     "name": "stdout",
     "output_type": "stream",
     "text": [
      "xtest.shape (10000,)\n",
      "ytest.shape (10000,)\n"
     ]
    }
   ],
   "source": [
    "print(\"xtest.shape\", xtest.shape)\n",
    "print(\"ytest.shape\", ytest.shape)"
   ]
  },
  {
   "cell_type": "markdown",
   "id": "07aa1ed9",
   "metadata": {},
   "source": [
    "##### Plot of the function we want to interpolate"
   ]
  },
  {
   "cell_type": "code",
   "execution_count": 7,
   "id": "ea40d141",
   "metadata": {},
   "outputs": [
    {
     "data": {
      "text/plain": [
       "[<matplotlib.lines.Line2D at 0x2c17395ddf0>]"
      ]
     },
     "execution_count": 7,
     "metadata": {},
     "output_type": "execute_result"
    },
    {
     "data": {
      "image/png": "[encoded data removed]",
      "text/plain": [
       "<Figure size 432x288 with 1 Axes>"
      ]
     },
     "metadata": {
      "needs_background": "light"
     },
     "output_type": "display_data"
    }
   ],
   "source": [
    "plt.plot(xtest, ytest)"
   ]
  },
  {
   "cell_type": "markdown",
   "id": "203b37c2",
   "metadata": {},
   "source": [
    "### Model definition"
   ]
  },
  {
   "cell_type": "markdown",
   "id": "f4d6093a",
   "metadata": {},
   "source": [
    "**TASK 1**: In the code below try to set values for relevant hyperparameters, such as the number of nodes, the number of layers, and choose an activation function. Also, using the module **keras.regularizers** try to set parameter norm penalties or add a dropout layer via **layers.Dropout(fraction)** for regularizing your model."
   ]
  },
  {
   "cell_type": "code",
   "execution_count": 8,
   "id": "19fe3d39",
   "metadata": {},
   "outputs": [
    {
     "ename": "SyntaxError",
     "evalue": "invalid syntax (<ipython-input-8-3d3afb7f67ea>, line 4)",
     "output_type": "error",
     "traceback": [
      "\u001b[1;36m  File \u001b[1;32m\"<ipython-input-8-3d3afb7f67ea>\"\u001b[1;36m, line \u001b[1;32m4\u001b[0m\n\u001b[1;33m    reg_strategy = # define your regularization strategy - use L1 and L2 regularization\u001b[0m\n\u001b[1;37m                   ^\u001b[0m\n\u001b[1;31mSyntaxError\u001b[0m\u001b[1;31m:\u001b[0m invalid syntax\n"
     ]
    }
   ],
   "source": [
    "nb_nodes = 1\n",
    "nb_layers = 1\n",
    "activation = \"\" # insert your choice of actiation funciton\n",
    "reg_strategy = # define your regularization strategy - use L1 and L2 regularization\n",
    "\n",
    "model = keras.models.Sequential(name=\"1Dfit\")\n",
    "model.add(layers.Dense(nb_nodes, activation=activation, kernel_regularizer=reg_strategy, input_dim=xtrain.shape[1]))  # first layer\n",
    "\n",
    "# insert your code for for creating additional layers \n",
    "\n",
    "model.add(layers.Dense(1))  # final layer\n",
    "\n",
    "print(model.summary())"
   ]
  },
  {
   "cell_type": "markdown",
   "id": "541f059b",
   "metadata": {},
   "source": [
    "### Compile the model"
   ]
  },
  {
   "cell_type": "markdown",
   "id": "9db0f4bd",
   "metadata": {},
   "source": [
    "**TASK 2**: Complete the code below by choosing an objective (loss) function for this regression task and optimization method from **keras.optimizers**"
   ]
  },
  {
   "cell_type": "code",
   "execution_count": null,
   "id": "bcae0ced",
   "metadata": {},
   "outputs": [],
   "source": [
    "model.compile(loss=\"\", optimizer=)"
   ]
  },
  {
   "cell_type": "markdown",
   "id": "8fb43e65",
   "metadata": {},
   "source": [
    "##### The model is created using SVM algorithm . The resultin3g accuracy is relatef to the question at hand!"
   ]
  },
  {
   "cell_type": "markdown",
   "id": "e9462bc5",
   "metadata": {},
   "source": [
    "### Train the model"
   ]
  },
  {
   "cell_type": "markdown",
   "id": "19b2a707",
   "metadata": {},
   "source": [
    "**TASK 3**: Complete the code below and train the network for a couple of epochs and save the model several times in between"
   ]
  },
  {
   "cell_type": "code",
   "execution_count": null,
   "id": "bebf1bcc",
   "metadata": {},
   "outputs": [],
   "source": [
    "epochs = \n",
    "save_period =   # after how many epochs the model should be saved?\n",
    "\n",
    "chkpnt_saver = keras.callbacks.ModelCheckpoint(\"weights-{epoch:02d}.hdf5\", save_weights_only=True, save_freq=save_period)\n",
    "\n",
    "results = model.fit(\n",
    "    xtrain,\n",
    "    ytrain,\n",
    "    batch_size=64,\n",
    "    epochs=epochs,\n",
    "    verbose=1,\n",
    "    callbacks=[chkpnt_saver]\n",
    "    )"
   ]
  },
  {
   "cell_type": "markdown",
   "id": "5f5e0e05",
   "metadata": {},
   "source": [
    "Compare the performance of the model during the training. You may use the skeleton below:"
   ]
  },
  {
   "cell_type": "code",
   "execution_count": null,
   "id": "c2e166a1",
   "metadata": {},
   "outputs": [],
   "source": [
    "fig, (ax1, ax2) = plt.subplots(nrows=2, figsize=(12, 8))\n",
    "\n",
    "ax1.plot(xtest, ytest, color=\"black\", label=\"data\")\n",
    "saved_epochs = range(save_period, epochs + 1, save_period)\n",
    "\n",
    "colors = [plt.cm.jet((i + 1) / float(len(saved_epochs) + 1)) for i in range(len(saved_epochs))]\n",
    "\n",
    "for i, epoch in enumerate(saved_epochs):\n",
    "    model.load_weights(\"weights-{epoch:02d}.hdf5\".format(epoch=epoch))\n",
    "    ypredict = model.predict(xtest).squeeze()\n",
    "    ax1.plot(xtest.squeeze(), ypredict, color=colors[i], label=epoch)\n",
    "    ax2.plot(epoch, results.history[\"loss\"][epoch - 1], color=colors[i], marker=\"o\")\n",
    "\n",
    "ax1.set(xlabel=\"x\", ylabel=\"some_complicated_function(x)\", xlim=(-10, 13), title=\"\")\n",
    "ax1.grid(True)\n",
    "ax1.legend(loc=\"upper right\", title=\"Epochs\")\n",
    "\n",
    "ax2.plot(results.history[\"loss\"], color=\"black\")\n",
    "ax2.set(xlabel=\"epoch\", ylabel=\"loss\")\n",
    "ax2.grid(True)\n",
    "ax2.semilogy()\n",
    "\n",
    "plt.show()"
   ]
  }
 ],
 "metadata": {
  "kernelspec": {
   "display_name": "Python 3",
   "language": "python",
   "name": "python3"
  },
  "language_info": {
   "codemirror_mode": {
    "name": "ipython",
    "version": 3
   },
   "file_extension": ".py",
   "mimetype": "text/x-python",
   "name": "python",
   "nbconvert_exporter": "python",
   "pygments_lexer": "ipython3",
   "version": "3.8.10"
  }
 },
 "nbformat": 4,
 "nbformat_minor": 5
}
