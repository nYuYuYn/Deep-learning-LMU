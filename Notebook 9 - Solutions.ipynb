{
 "cells": [
  {
   "cell_type": "markdown",
   "id": "d9ed70e1",
   "metadata": {},
   "source": [
    "# Classification of magnetic phases using a convolutional neural network"
   ]
  },
  {
   "cell_type": "markdown",
   "id": "dbf0dde6",
   "metadata": {},
   "source": [
    "### Machine learning phases of matter"
   ]
  },
  {
   "cell_type": "markdown",
   "id": "2d15095d",
   "metadata": {},
   "source": [
    "Analysis based on a data set used in the paper *Machine learning phases of matter*, by Juan Carrasquilla & Roger G. Melko, published in *Nature Physics* in 2017: https://www.nature.com/articles/nphys4035\n",
    "\n",
    "Nature Physics, **13**, 431–434 (2017)"
   ]
  },
  {
   "cell_type": "markdown",
   "id": "d46e2bd5",
   "metadata": {},
   "source": [
    "### Data and task description"
   ]
  },
  {
   "cell_type": "markdown",
   "id": "291eff55",
   "metadata": {},
   "source": [
    "We consider a 2-dimensional square lattice of $n×n$ magnetic dipole moments (spins) that can be in one of two states (+1 or −1, Ising model). We assume that interactions between spins are of short ranged, i.e. each spin interacts only with its four neighbors. The probability to find a spin in one of the orientations is a function of temperature $T$ according to $ p∼ e^{−a/T} $, where $a=const$.\n",
    "\n",
    "At very low temperatures $T→0$, neighboring spins have a very low probability of different orientations, so that a uniform overall state (ferromagnetic state) is adopted, characterized by +1 or −1. At very high temperatures $T \\rightarrow \\infty $, a paramagnetic phase with random spin alignment results, yielding 50% of +1 and 50% of −1 orientations. Below a critical temperature $0<T<T_c$, stable ferromagnetic domains emerge, with both orientations being equally probable in the absence of an external magnetic field. The spin-spin correlations diverge at $T_c$, whereas the correlation decays for $T>T_c$.\n",
    "\n",
    "The data set for this task contains the $n×n$ dipole orientations on the lattice for different temperatures $T$. The task is to use a convolutional neural network for classifying the two magnetic phases."
   ]
  },
  {
   "cell_type": "markdown",
   "id": "cbb88a6d",
   "metadata": {},
   "source": [
    "### Import data"
   ]
  },
  {
   "cell_type": "code",
   "execution_count": 17,
   "id": "751c0d63",
   "metadata": {},
   "outputs": [
    {
     "name": "stdout",
     "output_type": "stream",
     "text": [
      "keras 2.4.0\n"
     ]
    }
   ],
   "source": [
    "from tensorflow import keras\n",
    "import numpy as np\n",
    "callbacks = keras.callbacks\n",
    "layers = keras.layers\n",
    "\n",
    "print(\"keras\", keras.__version__)"
   ]
  },
  {
   "cell_type": "code",
   "execution_count": 19,
   "id": "c0f4bd07",
   "metadata": {},
   "outputs": [],
   "source": [
    "path = r\"C:\\Users\\Kepesidis\\Desktop\\Deep Learning for Physicists\\tutorials\\Tutorial 5\\ising_data.npz\"\n",
    "f = np.load(path, allow_pickle=True)\n",
    "n_train = 20000\n",
    "\n",
    "x_train, x_test = f[\"C\"][:n_train], f[\"C\"][n_train:]\n",
    "T_train, T_test = f[\"T\"][:n_train], f[\"T\"][n_train:]"
   ]
  },
  {
   "cell_type": "code",
   "execution_count": 22,
   "id": "6e6366e7",
   "metadata": {},
   "outputs": [
    {
     "data": {
      "image/png": "[encoded data removed]",
      "text/plain": [
       "<Figure size 432x288 with 6 Axes>"
      ]
     },
     "metadata": {
      "needs_background": "light"
     },
     "output_type": "display_data"
    }
   ],
   "source": [
    "import matplotlib.pyplot as plt\n",
    "\n",
    "for i,j in enumerate(np.random.choice(n_train, 6)):\n",
    "    plt.subplot(2,3,i+1)\n",
    "    image = x_train[j]\n",
    "    plot = plt.imshow(image)\n",
    "    plt.title(\"T: %.2f\" % T_train[j])\n",
    "\n",
    "plt.tight_layout()\n",
    "plt.show()"
   ]
  },
  {
   "cell_type": "code",
   "execution_count": 23,
   "id": "536a01f2",
   "metadata": {},
   "outputs": [
    {
     "data": {
      "text/plain": [
       "Text(0, 0.5, 'frequency')"
      ]
     },
     "execution_count": 23,
     "metadata": {},
     "output_type": "execute_result"
    },
    {
     "data": {
      "image/png": "[encoded data removed]",
      "text/plain": [
       "<Figure size 432x288 with 1 Axes>"
      ]
     },
     "metadata": {
      "needs_background": "light"
     },
     "output_type": "display_data"
    }
   ],
   "source": [
    "plt.hist(T_train)\n",
    "plt.xlabel(\"T\")\n",
    "plt.ylabel(\"frequency\")"
   ]
  },
  {
   "cell_type": "markdown",
   "id": "11f0f8b3",
   "metadata": {},
   "source": [
    "#### Definition of magnetic phases in the training set"
   ]
  },
  {
   "cell_type": "code",
   "execution_count": 24,
   "id": "0da6cb62",
   "metadata": {},
   "outputs": [],
   "source": [
    "Tc = 2.27\n",
    "y_train, y_test = T_train > Tc, T_test > Tc"
   ]
  },
  {
   "cell_type": "markdown",
   "id": "2029d581",
   "metadata": {},
   "source": [
    "### Tasks\n",
    "\n",
    "- Construct a convolutional neural network (with Keras) for the classification of magnetic phases\n",
    "- Evaluate the network's performance on the test set, by plotting the test accuracy as function of temperature\n",
    "- Compare to the results obtained using a fully-connected network (Notebook 7)"
   ]
  },
  {
   "cell_type": "markdown",
   "id": "5d4d34ce",
   "metadata": {},
   "source": [
    "### 1. Design the network"
   ]
  },
  {
   "cell_type": "code",
   "execution_count": 26,
   "id": "aa42dec8",
   "metadata": {
    "scrolled": false
   },
   "outputs": [
    {
     "name": "stdout",
     "output_type": "stream",
     "text": [
      "Model: \"sequential_2\"\n",
      "_________________________________________________________________\n",
      "Layer (type)                 Output Shape              Param #   \n",
      "=================================================================\n",
      "reshape_2 (Reshape)          (None, 32, 32, 1)         0         \n",
      "_________________________________________________________________\n",
      "conv2d_8 (Conv2D)            (None, 32, 32, 16)        160       \n",
      "_________________________________________________________________\n",
      "conv2d_9 (Conv2D)            (None, 32, 32, 16)        2320      \n",
      "_________________________________________________________________\n",
      "max_pooling2d_2 (MaxPooling2 (None, 16, 16, 16)        0         \n",
      "_________________________________________________________________\n",
      "conv2d_10 (Conv2D)           (None, 16, 16, 32)        4640      \n",
      "_________________________________________________________________\n",
      "conv2d_11 (Conv2D)           (None, 16, 16, 32)        9248      \n",
      "_________________________________________________________________\n",
      "global_average_pooling2d_2 ( (None, 32)                0         \n",
      "_________________________________________________________________\n",
      "dense_2 (Dense)              (None, 1)                 33        \n",
      "=================================================================\n",
      "Total params: 16,401\n",
      "Trainable params: 16,401\n",
      "Non-trainable params: 0\n",
      "_________________________________________________________________\n"
     ]
    }
   ],
   "source": [
    "model = keras.models.Sequential()\n",
    "model.add(layers.InputLayer(input_shape=(32, 32)))\n",
    "model.add(layers.Reshape((32, 32, 1)))\n",
    "model.add(layers.Convolution2D(16, (3, 3), padding='same', activation='relu'))\n",
    "model.add(layers.Convolution2D(16, (3, 3), padding='same', activation='relu'))\n",
    "model.add(layers.MaxPooling2D((2, 2)))\n",
    "model.add(layers.Convolution2D(32, (3, 3), padding='same', activation='relu'))\n",
    "model.add(layers.Convolution2D(32, (3, 3), padding='same', activation='relu'))\n",
    "\n",
    "model.add(layers.GlobalAveragePooling2D())\n",
    "\n",
    "#model.add(layers.Dropout(0.25))\n",
    "\n",
    "model.add(layers.Dense(1, activation='sigmoid'))\n",
    "\n",
    "model.summary()"
   ]
  },
  {
   "cell_type": "code",
   "execution_count": 8,
   "id": "5a12eb5b",
   "metadata": {},
   "outputs": [
    {
     "data": {
      "text/plain": [
       "160"
      ]
     },
     "execution_count": 8,
     "metadata": {},
     "output_type": "execute_result"
    }
   ],
   "source": [
    "3*3*16 + 16"
   ]
  },
  {
   "cell_type": "code",
   "execution_count": 9,
   "id": "28403a9e",
   "metadata": {},
   "outputs": [
    {
     "data": {
      "text/plain": [
       "2320"
      ]
     },
     "execution_count": 9,
     "metadata": {},
     "output_type": "execute_result"
    }
   ],
   "source": [
    "((3*3*16))*16 + 16"
   ]
  },
  {
   "cell_type": "code",
   "execution_count": 10,
   "id": "6b16db92",
   "metadata": {},
   "outputs": [
    {
     "data": {
      "text/plain": [
       "4640"
      ]
     },
     "execution_count": 10,
     "metadata": {},
     "output_type": "execute_result"
    }
   ],
   "source": [
    "(3*3*16)*32 + 32"
   ]
  },
  {
   "cell_type": "code",
   "execution_count": 11,
   "id": "ca3b9df1",
   "metadata": {},
   "outputs": [
    {
     "data": {
      "text/plain": [
       "9248"
      ]
     },
     "execution_count": 11,
     "metadata": {},
     "output_type": "execute_result"
    }
   ],
   "source": [
    "(3*3*32)*32 + 32"
   ]
  },
  {
   "cell_type": "markdown",
   "id": "0715a42d",
   "metadata": {},
   "source": [
    "### 2. Compile the network"
   ]
  },
  {
   "cell_type": "code",
   "execution_count": 28,
   "id": "612813ed",
   "metadata": {},
   "outputs": [],
   "source": [
    "model.compile(\n",
    "    loss='binary_crossentropy',\n",
    "    optimizer=keras.optimizers.Adam(0.001),\n",
    "    metrics=['accuracy'])"
   ]
  },
  {
   "cell_type": "markdown",
   "id": "430c7f07",
   "metadata": {},
   "source": [
    "### 3. Train the network"
   ]
  },
  {
   "cell_type": "code",
   "execution_count": 29,
   "id": "23d67c05",
   "metadata": {},
   "outputs": [
    {
     "name": "stdout",
     "output_type": "stream",
     "text": [
      "Epoch 1/50\n",
      "282/282 - 10s - loss: 0.0854 - accuracy: 0.9699 - val_loss: 0.0487 - val_accuracy: 0.9810\n",
      "Epoch 2/50\n",
      "282/282 - 10s - loss: 0.0443 - accuracy: 0.9816 - val_loss: 0.0441 - val_accuracy: 0.9850\n",
      "Epoch 3/50\n",
      "282/282 - 10s - loss: 0.0434 - accuracy: 0.9811 - val_loss: 0.0466 - val_accuracy: 0.9840\n",
      "Epoch 4/50\n",
      "\n",
      "Epoch 00004: ReduceLROnPlateau reducing learning rate to 0.0006700000318232924.\n",
      "282/282 - 10s - loss: 0.0437 - accuracy: 0.9807 - val_loss: 0.0460 - val_accuracy: 0.9790\n",
      "Epoch 5/50\n",
      "282/282 - 10s - loss: 0.0412 - accuracy: 0.9819 - val_loss: 0.0420 - val_accuracy: 0.9815\n",
      "Epoch 6/50\n",
      "282/282 - 10s - loss: 0.0411 - accuracy: 0.9819 - val_loss: 0.0369 - val_accuracy: 0.9830\n",
      "Epoch 7/50\n",
      "282/282 - 10s - loss: 0.0415 - accuracy: 0.9804 - val_loss: 0.0422 - val_accuracy: 0.9830\n",
      "Epoch 8/50\n",
      "\n",
      "Epoch 00008: ReduceLROnPlateau reducing learning rate to 0.0004489000252215192.\n",
      "282/282 - 10s - loss: 0.0398 - accuracy: 0.9822 - val_loss: 0.0384 - val_accuracy: 0.9825\n",
      "Epoch 9/50\n",
      "282/282 - 10s - loss: 0.0389 - accuracy: 0.9822 - val_loss: 0.0352 - val_accuracy: 0.9845\n",
      "Epoch 10/50\n",
      "282/282 - 10s - loss: 0.0388 - accuracy: 0.9828 - val_loss: 0.0353 - val_accuracy: 0.9840\n",
      "Epoch 11/50\n",
      "\n",
      "Epoch 00011: ReduceLROnPlateau reducing learning rate to 0.0003007630087086.\n",
      "282/282 - 10s - loss: 0.0384 - accuracy: 0.9827 - val_loss: 0.0521 - val_accuracy: 0.9795\n",
      "Epoch 12/50\n",
      "282/282 - 10s - loss: 0.0385 - accuracy: 0.9832 - val_loss: 0.0361 - val_accuracy: 0.9855\n",
      "Epoch 13/50\n",
      "\n",
      "Epoch 00013: ReduceLROnPlateau reducing learning rate to 0.0002015112101798877.\n",
      "282/282 - 10s - loss: 0.0390 - accuracy: 0.9828 - val_loss: 0.0362 - val_accuracy: 0.9835\n",
      "Epoch 14/50\n",
      "282/282 - 10s - loss: 0.0376 - accuracy: 0.9833 - val_loss: 0.0374 - val_accuracy: 0.9825\n",
      "Epoch 00014: early stopping\n"
     ]
    }
   ],
   "source": [
    "results = model.fit(x_train, y_train,\n",
    "                    batch_size=64,\n",
    "                    epochs=50,\n",
    "                    verbose=2,\n",
    "                    validation_split=0.1,\n",
    "                    callbacks=[\n",
    "                        callbacks.EarlyStopping(patience=5, verbose=1),\n",
    "                        callbacks.ReduceLROnPlateau(factor=0.67, patience=2, verbose=1)]\n",
    "                    )"
   ]
  },
  {
   "cell_type": "markdown",
   "id": "79267113",
   "metadata": {},
   "source": [
    "### 4. Monitor performance"
   ]
  },
  {
   "cell_type": "code",
   "execution_count": 30,
   "id": "9ae15550",
   "metadata": {},
   "outputs": [
    {
     "data": {
      "text/plain": [
       "<matplotlib.legend.Legend at 0x1e721bf4850>"
      ]
     },
     "execution_count": 30,
     "metadata": {},
     "output_type": "execute_result"
    },
    {
     "data": {
      "image/png": "[encoded data removed]",
      "text/plain": [
       "<Figure size 864x288 with 1 Axes>"
      ]
     },
     "metadata": {
      "needs_background": "light"
     },
     "output_type": "display_data"
    }
   ],
   "source": [
    "plt.figure(1, (12, 4))\n",
    "plt.subplot(1, 2, 1)\n",
    "plt.plot(results.history['loss'])\n",
    "plt.plot(results.history['val_loss'])\n",
    "plt.ylabel('loss')\n",
    "plt.xlabel('epoch')\n",
    "plt.legend(['train', 'val'], loc='upper right')"
   ]
  },
  {
   "cell_type": "code",
   "execution_count": 31,
   "id": "def8fd35",
   "metadata": {},
   "outputs": [
    {
     "data": {
      "text/plain": [
       "<matplotlib.legend.Legend at 0x1e7234535e0>"
      ]
     },
     "execution_count": 31,
     "metadata": {},
     "output_type": "execute_result"
    },
    {
     "data": {
      "image/png": "[encoded data removed]",
      "text/plain": [
       "<Figure size 864x288 with 1 Axes>"
      ]
     },
     "metadata": {
      "needs_background": "light"
     },
     "output_type": "display_data"
    }
   ],
   "source": [
    "plt.figure(1, (12, 4))\n",
    "plt.subplot(1, 2, 1)\n",
    "plt.plot(results.history['accuracy'])\n",
    "plt.plot(results.history['val_accuracy'])\n",
    "plt.ylabel('accuracy')\n",
    "plt.xlabel('epoch')\n",
    "plt.legend(['train', 'val'], loc='upper right')"
   ]
  },
  {
   "cell_type": "markdown",
   "id": "ea0f01ad",
   "metadata": {},
   "source": [
    "### 5. Model evaluation on the test set"
   ]
  },
  {
   "cell_type": "code",
   "execution_count": 32,
   "id": "30ffb34b",
   "metadata": {},
   "outputs": [
    {
     "data": {
      "text/plain": [
       "<matplotlib.lines.Line2D at 0x1e7234b7880>"
      ]
     },
     "execution_count": 32,
     "metadata": {},
     "output_type": "execute_result"
    },
    {
     "data": {
      "image/png": "[encoded data removed]",
      "text/plain": [
       "<Figure size 432x288 with 1 Axes>"
      ]
     },
     "metadata": {
      "needs_background": "light"
     },
     "output_type": "display_data"
    }
   ],
   "source": [
    "import seaborn as sns\n",
    "\n",
    "preds = model.predict(x_test).round().squeeze()\n",
    "acc = (preds == y_test).astype(np.float)\n",
    "\n",
    "ax = sns.regplot(x=T_test, y=acc, x_estimator= np.mean, fit_reg=False)\n",
    "ax.set_ylabel(\"accuracy\")\n",
    "ax.set_xlabel(\"T\")\n",
    "plt.axvline(x=Tc, color='k', linestyle='--', label='Tc')"
   ]
  },
  {
   "cell_type": "code",
   "execution_count": null,
   "id": "df80aa79",
   "metadata": {},
   "outputs": [],
   "source": []
  },
  {
   "cell_type": "code",
   "execution_count": null,
   "id": "c4b995b0",
   "metadata": {},
   "outputs": [],
   "source": []
  }
 ],
 "metadata": {
  "kernelspec": {
   "display_name": "Python 3",
   "language": "python",
   "name": "python3"
  },
  "language_info": {
   "codemirror_mode": {
    "name": "ipython",
    "version": 3
   },
   "file_extension": ".py",
   "mimetype": "text/x-python",
   "name": "python",
   "nbconvert_exporter": "python",
   "pygments_lexer": "ipython3",
   "version": "3.8.10"
  }
 },
 "nbformat": 4,
 "nbformat_minor": 5
}
