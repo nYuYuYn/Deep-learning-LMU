{
 "cells": [
  {
   "cell_type": "markdown",
   "id": "8bd19a1d",
   "metadata": {},
   "source": [
    "# Getting started with RNNs"
   ]
  },
  {
   "cell_type": "markdown",
   "id": "2f843fee",
   "metadata": {},
   "source": [
    "This notebook provides an illustration of how to implement RNNs in Keras\n",
    "\n",
    "**TASKS**:\n",
    "- Run the provided script and comment on the output.\n",
    "- Vary the number and size of the LSTM layers and compare training time and performance.\n",
    "\n",
    "**Important note**: Please try to use Python 3.6 for this task. The Keras implementation of LSTM has compatibility problems with Python 3.8. Alternatively, you can use Google Colab: https://colab.research.google.com/"
   ]
  },
  {
   "cell_type": "code",
   "execution_count": 1,
   "id": "431d87cd",
   "metadata": {},
   "outputs": [
    {
     "name": "stdout",
     "output_type": "stream",
     "text": [
      "3.8.10\n",
      "2.4.0\n"
     ]
    }
   ],
   "source": [
    "import numpy as np\n",
    "import matplotlib.pyplot as plt\n",
    "from tensorflow import keras\n",
    "layers = keras.layers\n",
    "\n",
    "from platform import python_version\n",
    "\n",
    "print(python_version())\n",
    "\n",
    "\n",
    "print(keras.__version__)"
   ]
  },
  {
   "cell_type": "markdown",
   "id": "af832b7f",
   "metadata": {},
   "source": [
    "### Generation of data: sinusoidal signal time trace"
   ]
  },
  {
   "cell_type": "markdown",
   "id": "b333f2f3",
   "metadata": {},
   "source": [
    "We create a signal time trace: t = 0-100, f = sin(pi * t)"
   ]
  },
  {
   "cell_type": "code",
   "execution_count": 2,
   "id": "ed97899e",
   "metadata": {},
   "outputs": [],
   "source": [
    "N = 10000\n",
    "t = np.linspace(0, 100, N)  # time steps\n",
    "f = np.sin(np.pi * t)  # signal"
   ]
  },
  {
   "cell_type": "markdown",
   "id": "2e7f6a5c",
   "metadata": {},
   "source": [
    "Split into semi-redundant sub-sequences of length = window_size + 1 and perform shuffle"
   ]
  },
  {
   "cell_type": "code",
   "execution_count": 3,
   "id": "69f41638",
   "metadata": {},
   "outputs": [],
   "source": [
    "window_size = 20\n",
    "n = N - window_size - 1  # number of possible splits\n",
    "data = np.stack([f[i: i + window_size + 1] for i in range(n)])"
   ]
  },
  {
   "cell_type": "code",
   "execution_count": 4,
   "id": "2037eb2b",
   "metadata": {},
   "outputs": [
    {
     "data": {
      "text/plain": [
       "[<matplotlib.lines.Line2D at 0x1cb48434e80>]"
      ]
     },
     "execution_count": 4,
     "metadata": {},
     "output_type": "execute_result"
    },
    {
     "data": {
      "image/png": "[encoded data removed]",
      "text/plain": [
       "<Figure size 432x288 with 1 Axes>"
      ]
     },
     "metadata": {
      "needs_background": "light"
     },
     "output_type": "display_data"
    }
   ],
   "source": [
    "plt.plot(data[200])"
   ]
  },
  {
   "cell_type": "markdown",
   "id": "234287eb",
   "metadata": {},
   "source": [
    "Split the data into features"
   ]
  },
  {
   "cell_type": "code",
   "execution_count": 5,
   "id": "e453706f",
   "metadata": {},
   "outputs": [
    {
     "name": "stdout",
     "output_type": "stream",
     "text": [
      "Example:\n",
      "X = [0.         0.0314139  0.06279679 0.0941177  0.1253457  0.15644998\n",
      " 0.18739983 0.21816471 0.24871423 0.27901826 0.30904688 0.33877044\n",
      " 0.36815961 0.39718538 0.42581909 0.45403249 0.48179773 0.50908739\n",
      " 0.53587454 0.56213275]\n",
      "y = [0.58783609]\n"
     ]
    }
   ],
   "source": [
    "X, y = np.split(data, [-1], axis=1)\n",
    "X = X[..., np.newaxis]\n",
    "\n",
    "print('Example:')\n",
    "print('X =', X[0, :, 0])\n",
    "print('y =', y[0, :])"
   ]
  },
  {
   "cell_type": "code",
   "execution_count": null,
   "id": "e0a8066c",
   "metadata": {},
   "outputs": [],
   "source": []
  },
  {
   "cell_type": "markdown",
   "id": "be030302",
   "metadata": {},
   "source": [
    "### Design and train a RNN"
   ]
  },
  {
   "cell_type": "code",
   "execution_count": 6,
   "id": "df17fc34",
   "metadata": {},
   "outputs": [
    {
     "name": "stdout",
     "output_type": "stream",
     "text": [
      "Model: \"sequential\"\n",
      "_________________________________________________________________\n",
      "Layer (type)                 Output Shape              Param #   \n",
      "=================================================================\n",
      "lstm (LSTM)                  (None, 16)                1152      \n",
      "_________________________________________________________________\n",
      "dense (Dense)                (None, 1)                 17        \n",
      "=================================================================\n",
      "Total params: 1,169\n",
      "Trainable params: 1,169\n",
      "Non-trainable params: 0\n",
      "_________________________________________________________________\n",
      "None\n"
     ]
    }
   ],
   "source": [
    "model = keras.Sequential()\n",
    "model.add(layers.InputLayer(input_shape=(None, 1)))\n",
    "model.add(layers.LSTM(16))\n",
    "model.add(layers.Dense(1))\n",
    "print(model.summary())\n",
    "\n",
    "model.compile(loss='mse', optimizer='adam')"
   ]
  },
  {
   "cell_type": "code",
   "execution_count": 7,
   "id": "44f8ca9e",
   "metadata": {
    "scrolled": true
   },
   "outputs": [
    {
     "name": "stdout",
     "output_type": "stream",
     "text": [
      "Epoch 1/60\n",
      "281/281 - 2s - loss: 0.1781 - val_loss: 0.0029\n",
      "Epoch 2/60\n",
      "281/281 - 1s - loss: 0.0015 - val_loss: 6.9745e-04\n",
      "Epoch 3/60\n",
      "281/281 - 1s - loss: 4.3387e-04 - val_loss: 2.2450e-04\n",
      "Epoch 4/60\n",
      "281/281 - 1s - loss: 1.3181e-04 - val_loss: 6.7952e-05\n",
      "Epoch 5/60\n",
      "281/281 - 2s - loss: 4.1447e-05 - val_loss: 3.0478e-05\n",
      "Epoch 6/60\n",
      "281/281 - 2s - loss: 2.3541e-05 - val_loss: 2.2928e-05\n",
      "Epoch 7/60\n",
      "\n",
      "Epoch 00007: ReduceLROnPlateau reducing learning rate to 0.0006700000318232924.\n",
      "281/281 - 1s - loss: 1.7549e-05 - val_loss: 1.8946e-05\n",
      "Epoch 8/60\n",
      "281/281 - 1s - loss: 1.4431e-05 - val_loss: 1.2261e-05\n",
      "Epoch 9/60\n",
      "281/281 - 1s - loss: 1.2138e-05 - val_loss: 1.2444e-05\n",
      "Epoch 10/60\n",
      "\n",
      "Epoch 00010: ReduceLROnPlateau reducing learning rate to 0.0004489000252215192.\n",
      "281/281 - 1s - loss: 1.2155e-05 - val_loss: 1.0342e-05\n",
      "Epoch 11/60\n",
      "281/281 - 1s - loss: 1.0512e-05 - val_loss: 9.3014e-06\n",
      "Epoch 12/60\n",
      "281/281 - 1s - loss: 1.0073e-05 - val_loss: 9.2045e-06\n",
      "Epoch 13/60\n",
      "\n",
      "Epoch 00013: ReduceLROnPlateau reducing learning rate to 0.0003007630087086.\n",
      "281/281 - 1s - loss: 9.6882e-06 - val_loss: 7.8136e-06\n",
      "Epoch 14/60\n",
      "281/281 - 2s - loss: 8.1932e-06 - val_loss: 7.3303e-06\n",
      "Epoch 15/60\n",
      "281/281 - 2s - loss: 8.1322e-06 - val_loss: 6.8252e-06\n",
      "Epoch 16/60\n",
      "\n",
      "Epoch 00016: ReduceLROnPlateau reducing learning rate to 0.0002015112101798877.\n",
      "281/281 - 1s - loss: 7.8873e-06 - val_loss: 7.5877e-06\n",
      "Epoch 17/60\n",
      "281/281 - 1s - loss: 7.0955e-06 - val_loss: 7.5113e-06\n",
      "Epoch 18/60\n",
      "281/281 - 1s - loss: 6.7864e-06 - val_loss: 6.3577e-06\n",
      "Epoch 19/60\n",
      "\n",
      "Epoch 00019: ReduceLROnPlateau reducing learning rate to 0.00013501251160050743.\n",
      "281/281 - 1s - loss: 6.3525e-06 - val_loss: 6.1249e-06\n",
      "Epoch 20/60\n",
      "281/281 - 1s - loss: 5.9671e-06 - val_loss: 5.8103e-06\n",
      "Epoch 21/60\n",
      "281/281 - 1s - loss: 5.8023e-06 - val_loss: 5.7765e-06\n",
      "Epoch 22/60\n",
      "\n",
      "Epoch 00022: ReduceLROnPlateau reducing learning rate to 9.04583813098725e-05.\n",
      "281/281 - 1s - loss: 5.6342e-06 - val_loss: 5.1399e-06\n",
      "Epoch 23/60\n",
      "281/281 - 2s - loss: 5.1861e-06 - val_loss: 4.7749e-06\n",
      "Epoch 24/60\n",
      "281/281 - 2s - loss: 5.2439e-06 - val_loss: 4.7533e-06\n",
      "Epoch 25/60\n",
      "\n",
      "Epoch 00025: ReduceLROnPlateau reducing learning rate to 6.060711421014276e-05.\n",
      "281/281 - 1s - loss: 4.8415e-06 - val_loss: 4.4031e-06\n",
      "Epoch 26/60\n",
      "281/281 - 1s - loss: 4.5551e-06 - val_loss: 4.2169e-06\n",
      "Epoch 27/60\n",
      "281/281 - 1s - loss: 4.4389e-06 - val_loss: 4.6016e-06\n",
      "Epoch 28/60\n",
      "\n",
      "Epoch 00028: ReduceLROnPlateau reducing learning rate to 4.060676725202939e-05.\n",
      "281/281 - 1s - loss: 4.4269e-06 - val_loss: 4.2375e-06\n",
      "Epoch 29/60\n",
      "281/281 - 1s - loss: 4.1981e-06 - val_loss: 4.9347e-06\n",
      "Epoch 30/60\n",
      "281/281 - 2s - loss: 4.0756e-06 - val_loss: 3.8913e-06\n",
      "Epoch 31/60\n",
      "\n",
      "Epoch 00031: ReduceLROnPlateau reducing learning rate to 2.720653359574499e-05.\n",
      "281/281 - 2s - loss: 4.1079e-06 - val_loss: 3.9385e-06\n",
      "Epoch 32/60\n",
      "281/281 - 1s - loss: 3.8080e-06 - val_loss: 3.6153e-06\n",
      "Epoch 33/60\n",
      "281/281 - 2s - loss: 3.7299e-06 - val_loss: 4.2668e-06\n",
      "Epoch 34/60\n",
      "\n",
      "Epoch 00034: ReduceLROnPlateau reducing learning rate to 1.8228377484774683e-05.\n",
      "281/281 - 1s - loss: 3.7041e-06 - val_loss: 3.6059e-06\n",
      "Epoch 35/60\n",
      "281/281 - 1s - loss: 3.5286e-06 - val_loss: 3.4364e-06\n",
      "Epoch 36/60\n",
      "281/281 - 1s - loss: 3.5024e-06 - val_loss: 3.4189e-06\n",
      "Epoch 37/60\n",
      "\n",
      "Epoch 00037: ReduceLROnPlateau reducing learning rate to 1.2213012305437588e-05.\n",
      "281/281 - 1s - loss: 3.4938e-06 - val_loss: 3.3136e-06\n",
      "Epoch 38/60\n",
      "281/281 - 1s - loss: 3.3318e-06 - val_loss: 3.2978e-06\n",
      "Epoch 39/60\n",
      "281/281 - 1s - loss: 3.3331e-06 - val_loss: 3.3321e-06\n",
      "Epoch 40/60\n",
      "\n",
      "Epoch 00040: ReduceLROnPlateau reducing learning rate to 1e-05.\n",
      "281/281 - 1s - loss: 3.2920e-06 - val_loss: 3.1881e-06\n",
      "Epoch 41/60\n",
      "281/281 - 2s - loss: 3.2234e-06 - val_loss: 3.1523e-06\n",
      "Epoch 42/60\n",
      "281/281 - 2s - loss: 3.2362e-06 - val_loss: 3.1226e-06\n",
      "Epoch 43/60\n",
      "281/281 - 2s - loss: 3.1955e-06 - val_loss: 3.1115e-06\n",
      "Epoch 44/60\n",
      "281/281 - 1s - loss: 3.1513e-06 - val_loss: 3.1129e-06\n",
      "Epoch 45/60\n",
      "281/281 - 1s - loss: 3.0924e-06 - val_loss: 3.0179e-06\n",
      "Epoch 46/60\n",
      "281/281 - 1s - loss: 3.0594e-06 - val_loss: 2.9605e-06\n",
      "Epoch 47/60\n",
      "281/281 - 1s - loss: 3.0264e-06 - val_loss: 2.9250e-06\n",
      "Epoch 48/60\n",
      "281/281 - 1s - loss: 2.9939e-06 - val_loss: 2.8985e-06\n",
      "Epoch 49/60\n",
      "281/281 - 1s - loss: 2.9761e-06 - val_loss: 2.9380e-06\n",
      "Epoch 50/60\n",
      "281/281 - 1s - loss: 2.9355e-06 - val_loss: 3.0277e-06\n",
      "Epoch 51/60\n",
      "281/281 - 2s - loss: 2.9204e-06 - val_loss: 2.8515e-06\n",
      "Epoch 52/60\n",
      "281/281 - 2s - loss: 2.8793e-06 - val_loss: 2.8543e-06\n",
      "Epoch 53/60\n",
      "281/281 - 2s - loss: 2.8445e-06 - val_loss: 2.8027e-06\n",
      "Epoch 54/60\n",
      "281/281 - 2s - loss: 2.7913e-06 - val_loss: 2.8314e-06\n",
      "Epoch 55/60\n",
      "281/281 - 2s - loss: 2.7737e-06 - val_loss: 2.7030e-06\n",
      "Epoch 56/60\n",
      "281/281 - 2s - loss: 2.7275e-06 - val_loss: 2.7121e-06\n",
      "Epoch 57/60\n",
      "281/281 - 2s - loss: 2.6868e-06 - val_loss: 2.6044e-06\n",
      "Epoch 58/60\n",
      "281/281 - 1s - loss: 2.6454e-06 - val_loss: 2.5744e-06\n",
      "Epoch 59/60\n",
      "281/281 - 1s - loss: 2.6662e-06 - val_loss: 2.5724e-06\n",
      "Epoch 60/60\n",
      "281/281 - 1s - loss: 2.6387e-06 - val_loss: 2.5688e-06\n"
     ]
    }
   ],
   "source": [
    "results = model.fit(X, y,\n",
    "    epochs=60,\n",
    "    batch_size=32,\n",
    "    verbose=2,\n",
    "    validation_split=0.1,\n",
    "    callbacks=[\n",
    "        keras.callbacks.ReduceLROnPlateau(factor=0.67, patience=3, verbose=1, min_lr=1E-5),\n",
    "        keras.callbacks.EarlyStopping(patience=4, verbose=1)])"
   ]
  },
  {
   "cell_type": "code",
   "execution_count": 8,
   "id": "7b2c9fcf",
   "metadata": {
    "scrolled": false
   },
   "outputs": [
    {
     "data": {
      "image/png": "[encoded data removed]",
      "text/plain": [
       "<Figure size 864x288 with 1 Axes>"
      ]
     },
     "metadata": {
      "needs_background": "light"
     },
     "output_type": "display_data"
    }
   ],
   "source": [
    "plt.figure(1, (12, 4))\n",
    "plt.subplot(1, 2, 1)\n",
    "plt.plot(results.history['loss'])\n",
    "plt.plot(results.history['val_loss'])\n",
    "plt.ylabel('loss')\n",
    "plt.yscale(\"log\")\n",
    "plt.xlabel('epoch')\n",
    "plt.legend(['train', 'val'], loc='upper right')\n",
    "plt.tight_layout()"
   ]
  },
  {
   "cell_type": "markdown",
   "id": "4ae981a4",
   "metadata": {},
   "source": [
    "### Evaluate the model's capability in forcasting"
   ]
  },
  {
   "cell_type": "code",
   "execution_count": 9,
   "id": "9060556b",
   "metadata": {},
   "outputs": [],
   "source": [
    "def predict_next_k(model, window, k=10):\n",
    "    \"\"\"Predict next k steps for the given model and starting sequence \"\"\"\n",
    "    x = window[np.newaxis, :, np.newaxis]  # initial input\n",
    "    y = np.zeros(k)\n",
    "    for i in range(k):\n",
    "        y[i] = model.predict(x, verbose=0)\n",
    "        # create the new input including the last prediction\n",
    "        x = np.roll(x, -1, axis=1)  # shift all inputs 1 step to the left\n",
    "        x[:, -1] = y[i]  # add latest prediction to end\n",
    "    return y"
   ]
  },
  {
   "cell_type": "code",
   "execution_count": 10,
   "id": "8b3f9c0f",
   "metadata": {},
   "outputs": [],
   "source": [
    "def plot_prediction(i0=0, k=500):\n",
    "    \"\"\" Predict and plot the next k steps for an input starting at i0 \"\"\"\n",
    "    y0 = f[i0: i0 + window_size]  # starting window (input)\n",
    "    y1 = predict_next_k(model, y0, k)  # predict next k steps\n",
    "\n",
    "    t0 = t[i0: i0 + window_size]\n",
    "    t1 = t[i0 + window_size: i0 + window_size + k]\n",
    "\n",
    "    plt.figure(figsize=(12, 4))\n",
    "    plt.plot(t, f, label='data')\n",
    "    plt.plot(t0, y0, color='C1', lw=3, label='prediction')\n",
    "    plt.plot(t1, y1, color='C1', ls='--')\n",
    "    plt.xlim(0, 10)\n",
    "    plt.legend()\n",
    "    plt.xlabel('$t$')\n",
    "    plt.ylabel('$f(t)$')"
   ]
  },
  {
   "cell_type": "code",
   "execution_count": 11,
   "id": "4553f666",
   "metadata": {},
   "outputs": [
    {
     "data": {
      "image/png": "[encoded data removed]",
      "text/plain": [
       "<Figure size 864x288 with 1 Axes>"
      ]
     },
     "metadata": {
      "needs_background": "light"
     },
     "output_type": "display_data"
    }
   ],
   "source": [
    "plot_prediction(12)"
   ]
  },
  {
   "cell_type": "code",
   "execution_count": null,
   "id": "45f2f4a4",
   "metadata": {},
   "outputs": [],
   "source": []
  }
 ],
 "metadata": {
  "kernelspec": {
   "display_name": "Python 3",
   "language": "python",
   "name": "python3"
  },
  "language_info": {
   "codemirror_mode": {
    "name": "ipython",
    "version": 3
   },
   "file_extension": ".py",
   "mimetype": "text/x-python",
   "name": "python",
   "nbconvert_exporter": "python",
   "pygments_lexer": "ipython3",
   "version": "3.8.10"
  }
 },
 "nbformat": 4,
 "nbformat_minor": 5
}
