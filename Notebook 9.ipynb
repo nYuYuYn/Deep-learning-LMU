{
 "cells": [
  {
   "cell_type": "markdown",
   "id": "d9ed70e1",
   "metadata": {},
   "source": [
    "# Classification of magnetic phases using a convolutional neural network"
   ]
  },
  {
   "cell_type": "markdown",
   "id": "dbf0dde6",
   "metadata": {},
   "source": [
    "### Machine learning phases of matter"
   ]
  },
  {
   "cell_type": "markdown",
   "id": "2d15095d",
   "metadata": {},
   "source": [
    "Analysis based on a data set used in the paper *Machine learning phases of matter*, by Juan Carrasquilla & Roger G. Melko, published in *Nature Physics* in 2017: https://www.nature.com/articles/nphys4035\n",
    "\n",
    "Nature Physics, **13**, 431–434 (2017)"
   ]
  },
  {
   "cell_type": "markdown",
   "id": "d46e2bd5",
   "metadata": {},
   "source": [
    "### Data and task description"
   ]
  },
  {
   "cell_type": "markdown",
   "id": "291eff55",
   "metadata": {},
   "source": [
    "We consider a 2-dimensional square lattice of $n×n$ magnetic dipole moments (spins) that can be in one of two states (+1 or −1, Ising model). We assume that interactions between spins are of short ranged, i.e. each spin interacts only with its four neighbors. The probability to find a spin in one of the orientations is a function of temperature $T$ according to $ p∼ e^{−a/T} $, where $a=const$.\n",
    "\n",
    "At very low temperatures $T→0$, neighboring spins have a very low probability of different orientations, so that a uniform overall state (ferromagnetic state) is adopted, characterized by +1 or −1. At very high temperatures $T \\rightarrow \\infty $, a paramagnetic phase with random spin alignment results, yielding 50% of +1 and 0 of −1 orientations. Below a critical temperature $0<T<T_c$, stable ferromagnetic domains emerge, with both orientations being equally probable in the absence of an external magnetic field. The spin-spin correlations diverge at $T_c$, whereas the correlation decays for $T>T_c$.\n",
    "\n",
    "The data set for this task contains the $n×n$ dipole orientations on the lattice for different temperatures $T$. The task is to use a convolutional neural network for classifying the two magnetic phases."
   ]
  },
  {
   "cell_type": "markdown",
   "id": "cbb88a6d",
   "metadata": {},
   "source": [
    "### Import data"
   ]
  },
  {
   "cell_type": "code",
   "execution_count": 1,
   "id": "751c0d63",
   "metadata": {},
   "outputs": [
    {
     "name": "stdout",
     "output_type": "stream",
     "text": [
      "keras 2.4.0\n"
     ]
    }
   ],
   "source": [
    "from tensorflow import keras\n",
    "import numpy as np\n",
    "callbacks = keras.callbacks\n",
    "layers = keras.layers\n",
    "\n",
    "print(\"keras\", keras.__version__)"
   ]
  },
  {
   "cell_type": "code",
   "execution_count": 2,
   "id": "c0f4bd07",
   "metadata": {},
   "outputs": [],
   "source": [
    "path = r\"C:\\Users\\Kepesidis\\Desktop\\Deep Learning for Physicists\\tutorials\\Tutorial 5\\ising_data.npz\"\n",
    "f = np.load(path, allow_pickle=True)\n",
    "n_train = 20000\n",
    "\n",
    "x_train, x_test = f[\"C\"][:n_train], f[\"C\"][n_train:]\n",
    "T_train, T_test = f[\"T\"][:n_train], f[\"T\"][n_train:]"
   ]
  },
  {
   "cell_type": "code",
   "execution_count": 3,
   "id": "6e6366e7",
   "metadata": {},
   "outputs": [
    {
     "data": {
      "image/png": "[encoded data removed]",
      "text/plain": [
       "<Figure size 432x288 with 6 Axes>"
      ]
     },
     "metadata": {
      "needs_background": "light"
     },
     "output_type": "display_data"
    }
   ],
   "source": [
    "import matplotlib.pyplot as plt\n",
    "\n",
    "for i,j in enumerate(np.random.choice(n_train, 6)):\n",
    "    plt.subplot(2,3,i+1)\n",
    "    image = x_train[j]\n",
    "    plot = plt.imshow(image)\n",
    "    plt.title(\"T: %.2f\" % T_train[j])\n",
    "\n",
    "plt.tight_layout()\n",
    "plt.show()"
   ]
  },
  {
   "cell_type": "code",
   "execution_count": 4,
   "id": "536a01f2",
   "metadata": {},
   "outputs": [
    {
     "data": {
      "text/plain": [
       "Text(0, 0.5, 'frequency')"
      ]
     },
     "execution_count": 4,
     "metadata": {},
     "output_type": "execute_result"
    },
    {
     "data": {
      "image/png": "[encoded data removed]",
      "text/plain": [
       "<Figure size 432x288 with 1 Axes>"
      ]
     },
     "metadata": {
      "needs_background": "light"
     },
     "output_type": "display_data"
    }
   ],
   "source": [
    "plt.hist(T_test)\n",
    "plt.xlabel(\"T\")\n",
    "plt.ylabel(\"frequency\")"
   ]
  },
  {
   "cell_type": "markdown",
   "id": "11f0f8b3",
   "metadata": {},
   "source": [
    "#### Definition of magnetic phases in the training set"
   ]
  },
  {
   "cell_type": "code",
   "execution_count": 14,
   "id": "0da6cb62",
   "metadata": {},
   "outputs": [],
   "source": [
    "Tc = 2.27\n",
    "y_train, y_test = T_train > Tc, T_test > Tc"
   ]
  },
  {
   "cell_type": "markdown",
   "id": "2029d581",
   "metadata": {},
   "source": [
    "### Tasks\n",
    "\n",
    "- Construct a convolutional neural network (with Keras) for the classification of magnetic phases\n",
    "- Evaluate the network's performance on the test set, by plotting the test accuracy as function of temperature\n",
    "- Compare to the results obtained using a fully-connected network (Notebook 7)"
   ]
  },
  {
   "cell_type": "code",
   "execution_count": null,
   "id": "aa42dec8",
   "metadata": {},
   "outputs": [],
   "source": []
  }
 ],
 "metadata": {
  "kernelspec": {
   "display_name": "Python 3",
   "language": "python",
   "name": "python3"
  },
  "language_info": {
   "codemirror_mode": {
    "name": "ipython",
    "version": 3
   },
   "file_extension": ".py",
   "mimetype": "text/x-python",
   "name": "python",
   "nbconvert_exporter": "python",
   "pygments_lexer": "ipython3",
   "version": "3.8.10"
  }
 },
 "nbformat": 4,
 "nbformat_minor": 5
}
