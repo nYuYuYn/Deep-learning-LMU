{
 "cells": [
  {
   "cell_type": "markdown",
   "id": "94a71def",
   "metadata": {},
   "source": [
    "#  Manually-constructed neural network for regression"
   ]
  },
  {
   "cell_type": "markdown",
   "id": "4e6c6174",
   "metadata": {},
   "source": [
    "In the notebook of tutorial 1 (Notebook 1), we explored simple linear regression based on Portugese white wine data set. Here, we continue with the analysis of the same data set. However, we now manually implement a simple network for solving the regression problem."
   ]
  },
  {
   "cell_type": "markdown",
   "id": "13588b30",
   "metadata": {},
   "source": [
    "## Getting the data"
   ]
  },
  {
   "cell_type": "code",
   "execution_count": 10,
   "id": "69527811",
   "metadata": {},
   "outputs": [],
   "source": [
    "import os\n",
    "import pandas as pd\n",
    "import numpy as np\n",
    "import matplotlib.pyplot as plt\n",
    "\n",
    "# set the path to the data\n",
    "csv_path = r\"C:\\Users\\Kepesidis\\Desktop\\Deep Learning for Physicists\\tutorials\\Tutorial 1\\winequality-white.csv\"\n",
    "data = pd.read_csv(csv_path, delimiter=\";\")"
   ]
  },
  {
   "cell_type": "code",
   "execution_count": 16,
   "id": "84e31e1e",
   "metadata": {},
   "outputs": [
    {
     "data": {
      "text/plain": [
       "(4898, 12)"
      ]
     },
     "execution_count": 16,
     "metadata": {},
     "output_type": "execute_result"
    }
   ],
   "source": [
    "data.shape"
   ]
  },
  {
   "cell_type": "code",
   "execution_count": 12,
   "id": "762f377e",
   "metadata": {},
   "outputs": [],
   "source": [
    "# Split the data into train and test sets\n",
    "\n",
    "data_np = data.values # transform to numpy array\n",
    "\n",
    "np.random.shuffle(data_np) # randomly shaffle data\n",
    "\n",
    "# use first 3000 examples for training\n",
    "X_train = data_np[:3000,:11] # predictors\n",
    "y_train = data_np[:3000,11]  # target variable\n",
    "\n",
    "# and remaining examples for testing\n",
    "X_test = data_np[3000:,:11] # predictors\n",
    "y_test = data_np[3000:,11] # target variable"
   ]
  },
  {
   "cell_type": "markdown",
   "id": "ce7dca1c",
   "metadata": {},
   "source": [
    "The main objective here is to train a neural network with one input layer, one hidden layer, and one output layer using gradient descent. First define the matrices and initialise with random values. We need W, b, W' and b'. The shapes will be:\n",
    "\n",
    "- W: (number of hidden nodes, number of inputs) named **W**\n",
    "- b: (number of hidden nodes) named **b**\n",
    "- W': (number of hidden nodes) named **Wp**\n",
    "- b': (one) named bp"
   ]
  },
  {
   "cell_type": "code",
   "execution_count": 13,
   "id": "6a7a9e43",
   "metadata": {},
   "outputs": [
    {
     "name": "stdout",
     "output_type": "stream",
     "text": [
      "(50, 11)\n"
     ]
    }
   ],
   "source": [
    "# Initialise weights with suitable random distributions\n",
    "\n",
    "hidden_nodes = 50 # number of nodes in the hidden layer\n",
    "n_inputs = 11 # input features in the dataset\n",
    "\n",
    "\n",
    "W = np.random.randn(hidden_nodes,11)*np.sqrt(2./n_inputs)\n",
    "b = np.random.randn(hidden_nodes)*np.sqrt(2./n_inputs)\n",
    "Wp = np.random.randn(hidden_nodes)*np.sqrt(2./hidden_nodes)\n",
    "bp = np.random.randn((1))\n",
    "\n",
    "print(W.shape)"
   ]
  },
  {
   "cell_type": "code",
   "execution_count": 14,
   "id": "ced5bcf9",
   "metadata": {},
   "outputs": [
    {
     "data": {
      "text/plain": [
       "(50,)"
      ]
     },
     "execution_count": 14,
     "metadata": {},
     "output_type": "execute_result"
    }
   ],
   "source": [
    "b.shape"
   ]
  },
  {
   "cell_type": "markdown",
   "id": "fb26169a",
   "metadata": {},
   "source": [
    "## Tasks"
   ]
  },
  {
   "cell_type": "markdown",
   "id": "12c8ec66",
   "metadata": {},
   "source": [
    "1. Implement a forward pass of the network within the function **dnn()**. We want a network with one hidden layer. As activiation in the hidden layer $\\sigma$ we apply element-wise ReLu, while no activation is used for the output layer. The forward pass of the network then reads: \n",
    "$\\hat{y}=\\mathbf{W}^{\\prime} \\sigma(\\mathbf{W} \\vec{x}+\\vec{b})+b^{\\prime}$"
   ]
  },
  {
   "cell_type": "code",
   "execution_count": 17,
   "id": "632b405c",
   "metadata": {},
   "outputs": [],
   "source": [
    "# You can use this implementation of the ReLu activation function\n",
    "def relu(x):\n",
    "    return np.maximum(x, 0)"
   ]
  },
  {
   "cell_type": "code",
   "execution_count": 18,
   "id": "a5a6830d",
   "metadata": {},
   "outputs": [],
   "source": [
    "def dnn(x,W,b,Wp,bp):\n",
    "\n",
    "    return np.dot(Wp, relu(np.dot(W,x) + b)) + bp"
   ]
  },
  {
   "cell_type": "markdown",
   "id": "4c65d8e6",
   "metadata": {},
   "source": [
    "2. Implement a function that uses one data point to update the weights using gradient descent. For the regression problem the objective function is the mean squared error between the prediction and the true label $y$: $ L=(\\hat{y}-y)^{2}$. Taking the partial derivatives - and diligently applying the chain rule - with respect to the different objects yields:\n",
    "$$\n",
    "\\begin{aligned}\n",
    "\\frac{\\partial L}{\\partial b^{\\prime}} &=2(\\hat{y}-y) \\\\\n",
    "\\frac{\\partial L}{\\partial b_{k}} &=2(\\hat{y}-y) \\mathbf{W}_{k}^{\\prime} \\theta\\left(\\sum_{i} \\mathbf{W}_{i k} x_{i}+b_{k}\\right) \\\\\n",
    "\\frac{\\partial L}{\\partial \\mathbf{W}_{k}^{\\prime}} &=2(\\hat{y}-y) \\sigma\\left(\\sum_{i} \\mathbf{W}_{i k} x_{i}+b_{k}\\right) \\\\\n",
    "\\frac{\\partial L}{\\partial \\mathbf{W}_{k m}} &=2(\\hat{y}-y) \\mathbf{W}_{m}^{\\prime} \\theta\\left(\\sum_{i} \\mathbf{W}_{i k} x_{i}+b_{m}\\right) x_{k}\n",
    "\\end{aligned}\n",
    "$$\n",
    "Here, $\\Theta$ denotes the Heaviside step function. Your task is to follow and complete the **update_weights()** function below"
   ]
  },
  {
   "cell_type": "code",
   "execution_count": 19,
   "id": "ec3c41f2",
   "metadata": {},
   "outputs": [],
   "source": [
    "def update_weights(x,y, W, b, Wp, bp):\n",
    "    \n",
    "    lr = 0.00005\n",
    "\n",
    "    # SOLUTION\n",
    "\n",
    "    # Calculate the network output\n",
    "    phi = dnn(x,W,b,Wp,bp)\n",
    "\n",
    "    # Use the formulas derived to calculate the gradient for each of W,b,Wp,bp\n",
    "    delta_bp = 2 * (phi - y)\n",
    "    delta_Wp = 2 * (phi - y) * relu(np.dot(W,x) + b)\n",
    "    delta_b  = 2 * (phi - y) * Wp * np.heaviside(np.dot(W,x) + b, 0.5)\n",
    "    delta_W  = 2 * (phi - y) * np.outer(Wp * np.heaviside(np.dot(W,x) + b, 0.5), x)\n",
    "                \n",
    "    # Update the weights/bias following the rule:  X_new = X_old - learning_rate * gradient    \n",
    "    bp -= lr * delta_bp\n",
    "    Wp -= lr * delta_Wp\n",
    "    b  -= lr * delta_b\n",
    "    W  -= lr * delta_W\n",
    "    \n",
    "    return -1 # no return value needed, you can modify the weights in-place"
   ]
  },
  {
   "cell_type": "markdown",
   "id": "bf61f79a",
   "metadata": {},
   "source": [
    "## Training loop and evaluation below"
   ]
  },
  {
   "cell_type": "code",
   "execution_count": 20,
   "id": "3ebe1b58",
   "metadata": {
    "scrolled": false
   },
   "outputs": [
    {
     "name": "stdout",
     "output_type": "stream",
     "text": [
      "Epoch: 0 Train Loss: 2.1657583692550992 Test Loss: 2.336574297570434\n",
      "Epoch: 1 Train Loss: 0.8473933999985357 Test Loss: 0.9954634543949445\n",
      "Epoch: 2 Train Loss: 0.7033832298129076 Test Loss: 0.7729930634059105\n",
      "Epoch: 3 Train Loss: 0.6757907183681471 Test Loss: 0.735808179931544\n",
      "Epoch: 4 Train Loss: 0.6659944901238635 Test Loss: 0.7160145792131007\n",
      "Epoch: 5 Train Loss: 0.6558160288498905 Test Loss: 0.7122621663178694\n",
      "Epoch: 6 Train Loss: 0.6504766014995229 Test Loss: 0.7046082469539193\n",
      "Epoch: 7 Train Loss: 0.6460651138626461 Test Loss: 0.6975099921512085\n",
      "Epoch: 8 Train Loss: 0.6427504987550661 Test Loss: 0.6867880469144063\n",
      "Epoch: 9 Train Loss: 0.6389965683324892 Test Loss: 0.6832777349961735\n",
      "Epoch: 10 Train Loss: 0.6361713549288501 Test Loss: 0.6742720363840672\n",
      "Epoch: 11 Train Loss: 0.6325031633774052 Test Loss: 0.672211433733176\n",
      "Epoch: 12 Train Loss: 0.6287869069900565 Test Loss: 0.665112588495503\n",
      "Epoch: 13 Train Loss: 0.6254195708545602 Test Loss: 0.6636757470846254\n",
      "Epoch: 14 Train Loss: 0.622978064402875 Test Loss: 0.6573595627689943\n",
      "Epoch: 15 Train Loss: 0.6217256346974016 Test Loss: 0.6536338856179101\n",
      "Epoch: 16 Train Loss: 0.6207406931408859 Test Loss: 0.6561232611494212\n",
      "Epoch: 17 Train Loss: 0.6200225104345946 Test Loss: 0.6525592407536226\n",
      "Epoch: 18 Train Loss: 0.6192807713026597 Test Loss: 0.6492559490080851\n",
      "Epoch: 19 Train Loss: 0.6186106502882528 Test Loss: 0.6467477845302725\n",
      "Epoch: 20 Train Loss: 0.6180731291451923 Test Loss: 0.6455282418736149\n",
      "Epoch: 21 Train Loss: 0.6173253091009694 Test Loss: 0.6480669783725829\n",
      "Epoch: 22 Train Loss: 0.6166845366716562 Test Loss: 0.6452235302771675\n",
      "Epoch: 23 Train Loss: 0.6161883284501188 Test Loss: 0.6431888416457947\n",
      "Epoch: 24 Train Loss: 0.6156791676499997 Test Loss: 0.6413556504829465\n",
      "Epoch: 25 Train Loss: 0.6152054358883394 Test Loss: 0.6401123369270917\n",
      "Epoch: 26 Train Loss: 0.6146847609206906 Test Loss: 0.6387078450867758\n",
      "Epoch: 27 Train Loss: 0.6142798555391025 Test Loss: 0.6378416562548754\n",
      "Epoch: 28 Train Loss: 0.6138531975107014 Test Loss: 0.636733576388015\n",
      "Epoch: 29 Train Loss: 0.6132324242618211 Test Loss: 0.6355535790710789\n",
      "Epoch: 30 Train Loss: 0.6129641672750116 Test Loss: 0.6348301612510879\n",
      "Epoch: 31 Train Loss: 0.6124188539195291 Test Loss: 0.6337332355631351\n",
      "Epoch: 32 Train Loss: 0.6121925838549882 Test Loss: 0.6330386256440493\n",
      "Epoch: 33 Train Loss: 0.6119873928381793 Test Loss: 0.6325873241627108\n",
      "Epoch: 34 Train Loss: 0.6116207713149783 Test Loss: 0.631844200507597\n",
      "Epoch: 35 Train Loss: 0.6111956245691742 Test Loss: 0.6309557858135407\n",
      "Epoch: 36 Train Loss: 0.6109235171712641 Test Loss: 0.6303793866951507\n",
      "Epoch: 37 Train Loss: 0.6106117058295495 Test Loss: 0.6297339858343254\n",
      "Epoch: 38 Train Loss: 0.610335247503813 Test Loss: 0.6291981402795739\n",
      "Epoch: 39 Train Loss: 0.6101628767711904 Test Loss: 0.628890751456155\n",
      "Epoch: 40 Train Loss: 0.6097729044834579 Test Loss: 0.6281314811902956\n",
      "Epoch: 41 Train Loss: 0.6094355245742267 Test Loss: 0.6274687986586278\n",
      "Epoch: 42 Train Loss: 0.6092099745319068 Test Loss: 0.6271510244091599\n",
      "Epoch: 43 Train Loss: 0.608919501469644 Test Loss: 0.6265775786426091\n",
      "Epoch: 44 Train Loss: 0.6086455674350495 Test Loss: 0.6261083639910121\n",
      "Epoch: 45 Train Loss: 0.6083026108565138 Test Loss: 0.6255357660537563\n",
      "Epoch: 46 Train Loss: 0.6090613529979101 Test Loss: 0.62675040389036\n",
      "Epoch: 47 Train Loss: 0.6087622244709678 Test Loss: 0.6262668920158937\n",
      "Epoch: 48 Train Loss: 0.6082942858895938 Test Loss: 0.6254329476870205\n",
      "Epoch: 49 Train Loss: 0.6082024529122679 Test Loss: 0.6254340671656442\n",
      "Epoch: 50 Train Loss: 0.6077450348075034 Test Loss: 0.6245859652723106\n",
      "Epoch: 51 Train Loss: 0.6074469647060803 Test Loss: 0.6241428197145824\n",
      "Epoch: 52 Train Loss: 0.6071797484174996 Test Loss: 0.6237518058093378\n",
      "Epoch: 53 Train Loss: 0.6068297765651595 Test Loss: 0.6231773887195065\n",
      "Epoch: 54 Train Loss: 0.6065792475473362 Test Loss: 0.6228429980670028\n",
      "Epoch: 55 Train Loss: 0.6062461372291936 Test Loss: 0.6223421411758948\n",
      "Epoch: 56 Train Loss: 0.6060539323506883 Test Loss: 0.6221024843630307\n",
      "Epoch: 57 Train Loss: 0.6057232108248475 Test Loss: 0.6216198396796475\n",
      "Epoch: 58 Train Loss: 0.605466679454296 Test Loss: 0.6212594765323061\n",
      "Epoch: 59 Train Loss: 0.6052686310976425 Test Loss: 0.6210151796880212\n",
      "Epoch: 60 Train Loss: 0.6050389050843905 Test Loss: 0.620692767460072\n",
      "Epoch: 61 Train Loss: 0.6047955333530751 Test Loss: 0.6205579091899641\n",
      "Epoch: 62 Train Loss: 0.6045548932441839 Test Loss: 0.6203824288001243\n",
      "Epoch: 63 Train Loss: 0.6043090346600378 Test Loss: 0.6201672285205437\n",
      "Epoch: 64 Train Loss: 0.6039461151345905 Test Loss: 0.6196927543903626\n",
      "Epoch: 65 Train Loss: 0.6039004802031946 Test Loss: 0.6197893371561815\n",
      "Epoch: 66 Train Loss: 0.6036630049345779 Test Loss: 0.6195640318934384\n",
      "Epoch: 67 Train Loss: 0.6032895243643246 Test Loss: 0.6190568068727894\n",
      "Epoch: 68 Train Loss: 0.6032205120582949 Test Loss: 0.6191136116923384\n",
      "Epoch: 69 Train Loss: 0.6031004435762611 Test Loss: 0.6191819280737022\n",
      "Epoch: 70 Train Loss: 0.6028838245171452 Test Loss: 0.6189375388206019\n",
      "Epoch: 71 Train Loss: 0.6023402286686967 Test Loss: 0.6179810965344993\n",
      "Epoch: 72 Train Loss: 0.6024898194763232 Test Loss: 0.6186903097103943\n",
      "Epoch: 73 Train Loss: 0.6024056787230617 Test Loss: 0.6187396645559433\n",
      "Epoch: 74 Train Loss: 0.6018645988285567 Test Loss: 0.6178624894838651\n",
      "Epoch: 75 Train Loss: 0.601812478021993 Test Loss: 0.617889289023434\n",
      "Epoch: 76 Train Loss: 0.6024072704506221 Test Loss: 0.618660745637429\n",
      "Epoch: 77 Train Loss: 0.6021638519267672 Test Loss: 0.6183515077929529\n",
      "Epoch: 78 Train Loss: 0.6019538695496822 Test Loss: 0.618051650603106\n",
      "Epoch: 79 Train Loss: 0.6017275564421678 Test Loss: 0.6178395245140802\n",
      "Epoch: 80 Train Loss: 0.6015383115170283 Test Loss: 0.6175951171840268\n",
      "Epoch: 81 Train Loss: 0.6008054258430812 Test Loss: 0.6166683497790936\n",
      "Epoch: 82 Train Loss: 0.6010909587792469 Test Loss: 0.6170667014162412\n",
      "Epoch: 83 Train Loss: 0.6008919005299952 Test Loss: 0.6168266465322922\n",
      "Epoch: 84 Train Loss: 0.6008884844233244 Test Loss: 0.6171573744072977\n",
      "Epoch: 85 Train Loss: 0.6005985387260274 Test Loss: 0.6169406417708116\n",
      "Epoch: 86 Train Loss: 0.6003652015321042 Test Loss: 0.616733684980719\n",
      "Epoch: 87 Train Loss: 0.6000615908987214 Test Loss: 0.6164220786779162\n",
      "Epoch: 88 Train Loss: 0.599837108797789 Test Loss: 0.616183372784755\n",
      "Epoch: 89 Train Loss: 0.5996325590513496 Test Loss: 0.6158914108170648\n",
      "Epoch: 90 Train Loss: 0.5993686084226768 Test Loss: 0.6155680066512634\n",
      "Epoch: 91 Train Loss: 0.5991864394433483 Test Loss: 0.6152502658076479\n",
      "Epoch: 92 Train Loss: 0.5989339899772514 Test Loss: 0.6150785414885686\n",
      "Epoch: 93 Train Loss: 0.5988835687647164 Test Loss: 0.6150526102625513\n",
      "Epoch: 94 Train Loss: 0.5986590937525165 Test Loss: 0.6148656347543572\n",
      "Epoch: 95 Train Loss: 0.598722510386659 Test Loss: 0.6163938296749099\n",
      "Epoch: 96 Train Loss: 0.598364022759006 Test Loss: 0.6160310048897175\n",
      "Epoch: 97 Train Loss: 0.5976145093499364 Test Loss: 0.6152944368794934\n",
      "Epoch: 98 Train Loss: 0.5975050582575258 Test Loss: 0.6150688795777053\n",
      "Epoch: 99 Train Loss: 0.5968673347237007 Test Loss: 0.6142757580032986\n",
      "Best loss: 0.6142757580032986 Final loss: 0.6142757580032986\n",
      "Correlation coefficient: 0.4783028688355225\n"
     ]
    },
    {
     "data": {
      "image/png": "[encoded data removed]",
      "text/plain": [
       "<Figure size 432x288 with 1 Axes>"
      ]
     },
     "metadata": {
      "needs_background": "light"
     },
     "output_type": "display_data"
    },
    {
     "data": {
      "image/png": "[encoded data removed]",
      "text/plain": [
       "<Figure size 432x288 with 1 Axes>"
      ]
     },
     "metadata": {
      "needs_background": "light"
     },
     "output_type": "display_data"
    }
   ],
   "source": [
    "# The code below implements the training.\n",
    "# If you correctly implement  dnn and update_weights above, \n",
    "# you should not need to change anything below. \n",
    "# (apart from increasing the number of epochs)\n",
    "\n",
    "train_losses = []\n",
    "test_losses = []\n",
    "\n",
    "# How many epochs to train\n",
    "n_epochs = 100\n",
    "\n",
    "# Loop over the epochs\n",
    "for ep in range(n_epochs):\n",
    "        \n",
    "    # Each epoch is a complete over the training data\n",
    "    for i in range(X_train.shape[0]):\n",
    "        \n",
    "        # pick one example\n",
    "        x = X_train[i]\n",
    "        y = y_train[i]\n",
    "\n",
    "        # use it to update the weights\n",
    "        update_weights(x,y,W,b,Wp,bp)\n",
    "    \n",
    "    # Calculate predictions for the full training and testing sample\n",
    "    y_pred_train = [dnn(x,W,b,Wp,bp)[0] for x in X_train]\n",
    "    y_pred = [dnn(x,W,b,Wp,bp)[0] for x in X_test]\n",
    "\n",
    "    # Calculate aver loss / example over the epoch\n",
    "    train_loss = sum((y_pred_train-y_train)**2) / y_train.shape[0]\n",
    "    test_loss = sum((y_pred-y_test)**2) / y_test.shape[0] \n",
    "    \n",
    "    # print some information\n",
    "    print(\"Epoch:\",ep, \"Train Loss:\", train_loss, \"Test Loss:\", test_loss)\n",
    "    \n",
    "    # and store the losses for later use\n",
    "    train_losses.append(train_loss)\n",
    "    test_losses.append(test_loss)\n",
    "    \n",
    "    \n",
    "# After the training:\n",
    "    \n",
    "# Prepare scatter plot\n",
    "y_pred = [dnn(x,W,b,Wp,bp)[0] for x in X_test]\n",
    "\n",
    "print(\"Best loss:\", min(test_losses), \"Final loss:\", test_losses[-1])\n",
    "\n",
    "print(\"Correlation coefficient:\", np.corrcoef(y_pred,y_test)[0,1])\n",
    "plt.scatter(y_pred_train,y_train)\n",
    "plt.xlabel(\"Predicted\")\n",
    "plt.ylabel(\"True\")\n",
    "plt.show()\n",
    "\n",
    "# Prepare and loss over time\n",
    "plt.plot(train_losses,label=\"train\")\n",
    "plt.plot(test_losses,label=\"test\")\n",
    "plt.legend()\n",
    "plt.xlabel(\"Epoch\")\n",
    "plt.ylabel(\"Loss\")\n",
    "plt.show()"
   ]
  },
  {
   "cell_type": "code",
   "execution_count": null,
   "id": "125a8d9e",
   "metadata": {},
   "outputs": [],
   "source": []
  },
  {
   "cell_type": "code",
   "execution_count": null,
   "id": "62189464",
   "metadata": {},
   "outputs": [],
   "source": []
  }
 ],
 "metadata": {
  "kernelspec": {
   "display_name": "Python 3",
   "language": "python",
   "name": "python3"
  },
  "language_info": {
   "codemirror_mode": {
    "name": "ipython",
    "version": 3
   },
   "file_extension": ".py",
   "mimetype": "text/x-python",
   "name": "python",
   "nbconvert_exporter": "python",
   "pygments_lexer": "ipython3",
   "version": "3.8.10"
  }
 },
 "nbformat": 4,
 "nbformat_minor": 5
}
