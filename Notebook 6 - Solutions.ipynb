{
 "cells": [
  {
   "cell_type": "markdown",
   "id": "844358f3",
   "metadata": {},
   "source": [
    "# Regression using Keras"
   ]
  },
  {
   "cell_type": "markdown",
   "id": "f170c7ed",
   "metadata": {},
   "source": [
    "In this task we will design and train a regression model and explore the comfort of working with the high-level API of thee Keras library"
   ]
  },
  {
   "cell_type": "code",
   "execution_count": 53,
   "id": "1052d62f",
   "metadata": {},
   "outputs": [],
   "source": [
    "import os\n",
    "import pandas as pd\n",
    "import numpy as np\n",
    "import matplotlib.pyplot as plt\n",
    "import tensorflow as tf\n",
    "from tensorflow import keras\n",
    "\n",
    "# set the path to the data\n",
    "csv_path = r\"C:\\Users\\Kepesidis\\Desktop\\Deep Learning for Physicists\\tutorials\\Tutorial 1\\winequality-white.csv\"\n",
    "data = pd.read_csv(csv_path, delimiter=\";\")"
   ]
  },
  {
   "cell_type": "code",
   "execution_count": 54,
   "id": "fb6d2479",
   "metadata": {},
   "outputs": [
    {
     "data": {
      "text/html": [
       "<div>\n",
       "<style scoped>\n",
       "    .dataframe tbody tr th:only-of-type {\n",
       "        vertical-align: middle;\n",
       "    }\n",
       "\n",
       "    .dataframe tbody tr th {\n",
       "        vertical-align: top;\n",
       "    }\n",
       "\n",
       "    .dataframe thead th {\n",
       "        text-align: right;\n",
       "    }\n",
       "</style>\n",
       "<table border=\"1\" class=\"dataframe\">\n",
       "  <thead>\n",
       "    <tr style=\"text-align: right;\">\n",
       "      <th></th>\n",
       "      <th>fixed acidity</th>\n",
       "      <th>volatile acidity</th>\n",
       "      <th>citric acid</th>\n",
       "      <th>residual sugar</th>\n",
       "      <th>chlorides</th>\n",
       "      <th>free sulfur dioxide</th>\n",
       "      <th>total sulfur dioxide</th>\n",
       "      <th>density</th>\n",
       "      <th>pH</th>\n",
       "      <th>sulphates</th>\n",
       "      <th>alcohol</th>\n",
       "      <th>quality</th>\n",
       "    </tr>\n",
       "  </thead>\n",
       "  <tbody>\n",
       "    <tr>\n",
       "      <th>0</th>\n",
       "      <td>7.0</td>\n",
       "      <td>0.27</td>\n",
       "      <td>0.36</td>\n",
       "      <td>20.7</td>\n",
       "      <td>0.045</td>\n",
       "      <td>45.0</td>\n",
       "      <td>170.0</td>\n",
       "      <td>1.0010</td>\n",
       "      <td>3.00</td>\n",
       "      <td>0.45</td>\n",
       "      <td>8.8</td>\n",
       "      <td>6</td>\n",
       "    </tr>\n",
       "    <tr>\n",
       "      <th>1</th>\n",
       "      <td>6.3</td>\n",
       "      <td>0.30</td>\n",
       "      <td>0.34</td>\n",
       "      <td>1.6</td>\n",
       "      <td>0.049</td>\n",
       "      <td>14.0</td>\n",
       "      <td>132.0</td>\n",
       "      <td>0.9940</td>\n",
       "      <td>3.30</td>\n",
       "      <td>0.49</td>\n",
       "      <td>9.5</td>\n",
       "      <td>6</td>\n",
       "    </tr>\n",
       "    <tr>\n",
       "      <th>2</th>\n",
       "      <td>8.1</td>\n",
       "      <td>0.28</td>\n",
       "      <td>0.40</td>\n",
       "      <td>6.9</td>\n",
       "      <td>0.050</td>\n",
       "      <td>30.0</td>\n",
       "      <td>97.0</td>\n",
       "      <td>0.9951</td>\n",
       "      <td>3.26</td>\n",
       "      <td>0.44</td>\n",
       "      <td>10.1</td>\n",
       "      <td>6</td>\n",
       "    </tr>\n",
       "    <tr>\n",
       "      <th>3</th>\n",
       "      <td>7.2</td>\n",
       "      <td>0.23</td>\n",
       "      <td>0.32</td>\n",
       "      <td>8.5</td>\n",
       "      <td>0.058</td>\n",
       "      <td>47.0</td>\n",
       "      <td>186.0</td>\n",
       "      <td>0.9956</td>\n",
       "      <td>3.19</td>\n",
       "      <td>0.40</td>\n",
       "      <td>9.9</td>\n",
       "      <td>6</td>\n",
       "    </tr>\n",
       "    <tr>\n",
       "      <th>4</th>\n",
       "      <td>7.2</td>\n",
       "      <td>0.23</td>\n",
       "      <td>0.32</td>\n",
       "      <td>8.5</td>\n",
       "      <td>0.058</td>\n",
       "      <td>47.0</td>\n",
       "      <td>186.0</td>\n",
       "      <td>0.9956</td>\n",
       "      <td>3.19</td>\n",
       "      <td>0.40</td>\n",
       "      <td>9.9</td>\n",
       "      <td>6</td>\n",
       "    </tr>\n",
       "  </tbody>\n",
       "</table>\n",
       "</div>"
      ],
      "text/plain": [
       "   fixed acidity  volatile acidity  citric acid  residual sugar  chlorides  \\\n",
       "0            7.0              0.27         0.36            20.7      0.045   \n",
       "1            6.3              0.30         0.34             1.6      0.049   \n",
       "2            8.1              0.28         0.40             6.9      0.050   \n",
       "3            7.2              0.23         0.32             8.5      0.058   \n",
       "4            7.2              0.23         0.32             8.5      0.058   \n",
       "\n",
       "   free sulfur dioxide  total sulfur dioxide  density    pH  sulphates  \\\n",
       "0                 45.0                 170.0   1.0010  3.00       0.45   \n",
       "1                 14.0                 132.0   0.9940  3.30       0.49   \n",
       "2                 30.0                  97.0   0.9951  3.26       0.44   \n",
       "3                 47.0                 186.0   0.9956  3.19       0.40   \n",
       "4                 47.0                 186.0   0.9956  3.19       0.40   \n",
       "\n",
       "   alcohol  quality  \n",
       "0      8.8        6  \n",
       "1      9.5        6  \n",
       "2     10.1        6  \n",
       "3      9.9        6  \n",
       "4      9.9        6  "
      ]
     },
     "execution_count": 54,
     "metadata": {},
     "output_type": "execute_result"
    }
   ],
   "source": [
    "data.head()"
   ]
  },
  {
   "cell_type": "code",
   "execution_count": 55,
   "id": "515f62cd",
   "metadata": {},
   "outputs": [],
   "source": [
    "# Split the data into train and test sets\n",
    "\n",
    "data_np = data.values # transform to numpy array\n",
    "\n",
    "np.random.shuffle(data_np) # randomly shaffle data\n",
    "\n",
    "# use first 3000 examples for training\n",
    "X_train = data_np[:3000,:11] # predictors\n",
    "y_train = data_np[:3000,11]  # target variable\n",
    "\n",
    "# and remaining examples for testing\n",
    "X_test = data_np[3000:,:11] # predictors\n",
    "y_test = data_np[3000:,11] # target variable"
   ]
  },
  {
   "cell_type": "code",
   "execution_count": 56,
   "id": "d44f6d75",
   "metadata": {},
   "outputs": [
    {
     "data": {
      "text/plain": [
       "(1898, 11)"
      ]
     },
     "execution_count": 56,
     "metadata": {},
     "output_type": "execute_result"
    }
   ],
   "source": [
    "X_test.shape"
   ]
  },
  {
   "cell_type": "markdown",
   "id": "10071c06",
   "metadata": {},
   "source": [
    "Below is a simple network implemented using Keras. In addition to the network we define the loss function and optimiser. We can use the Sequential class to very easiliy build a simple architecture. For more information on Keras, see: https://keras.io/api/models/sequential/ and https://keras.io/api/layers/core_layers/dense/"
   ]
  },
  {
   "cell_type": "code",
   "execution_count": 83,
   "id": "dac47c4f",
   "metadata": {},
   "outputs": [],
   "source": [
    "# See: https://keras.io/api/models/sequential/ and \n",
    "# https://keras.io/api/layers/core_layers/dense/\n",
    "# We can use the Sequential class to very easiliy\n",
    "# build a simple architecture\n",
    "model = keras.models.Sequential()\n",
    "# 11 inputs, 20 outputs, relu\n",
    "model.add(keras.layers.Dense(20, input_dim=11, activation='relu')) \n",
    "model.add(keras.layers.Dense(20, activation='relu')) \n",
    "#model.add(keras.layers.Dense(20, activation='relu')) \n",
    "# 20 inputs (automatically detected by Keras), 1 output, linear activation\n",
    "model.add(keras.layers.Dense(1, activation='linear'))\n",
    "\n",
    "\n",
    "# Set loss function and optimiser algorithm\n",
    "# Remove comments from of these versions:\n",
    "\n",
    "# Initial:\n",
    "#model.compile(loss='mse',  # mean squared error\n",
    "#              optimizer='sgd'# stochastic gradient descent\n",
    "#             ) \n",
    "#\n",
    "# sgd with mometum\n",
    "# instead of passing a string, we can explicitely construct the optimizer object\n",
    "# this gives us more control over its properties\n",
    "#opt = keras.optimizers.SGD(momentum=0.8) \n",
    "#model.compile(loss='mse',  # mean squared error\n",
    "#              optimizer='sgd'\n",
    "#             ) \n",
    "#\n",
    "# Adam:\n",
    "opt = keras.optimizers.Adam(learning_rate=0.0005) \n",
    "model.compile(loss='mse',  # mean squared error\n",
    "              optimizer=opt\n",
    "             ) "
   ]
  },
  {
   "cell_type": "markdown",
   "id": "67f7763c",
   "metadata": {},
   "source": [
    "### Model training and evaluation"
   ]
  },
  {
   "cell_type": "markdown",
   "id": "f2407fef",
   "metadata": {},
   "source": [
    "The code below trains the network for 5 epochs using the loss function and optimiser defined above. Each example is individually passed to the network"
   ]
  },
  {
   "cell_type": "code",
   "execution_count": 89,
   "id": "3829fc17",
   "metadata": {
    "scrolled": false
   },
   "outputs": [
    {
     "name": "stdout",
     "output_type": "stream",
     "text": [
      "Epoch 1/10\n",
      "47/47 [==============================] - 0s 1ms/step - loss: 0.5924 - val_loss: 0.6233\n",
      "Epoch 2/10\n",
      "47/47 [==============================] - 0s 870us/step - loss: 0.5938 - val_loss: 0.6226\n",
      "Epoch 3/10\n",
      "47/47 [==============================] - 0s 844us/step - loss: 0.5939 - val_loss: 0.6186\n",
      "Epoch 4/10\n",
      "47/47 [==============================] - 0s 712us/step - loss: 0.5902 - val_loss: 0.6236\n",
      "Epoch 5/10\n",
      "47/47 [==============================] - 0s 799us/step - loss: 0.5941 - val_loss: 0.6175\n",
      "Epoch 6/10\n",
      "47/47 [==============================] - 0s 777us/step - loss: 0.5881 - val_loss: 0.6188\n",
      "Epoch 7/10\n",
      "47/47 [==============================] - 0s 842us/step - loss: 0.6001 - val_loss: 0.6161\n",
      "Epoch 8/10\n",
      "47/47 [==============================] - 0s 820us/step - loss: 0.5922 - val_loss: 0.6142\n",
      "Epoch 9/10\n",
      "47/47 [==============================] - 0s 799us/step - loss: 0.5875 - val_loss: 0.6217\n",
      "Epoch 10/10\n",
      "47/47 [==============================] - 0s 797us/step - loss: 0.5916 - val_loss: 0.6825\n"
     ]
    }
   ],
   "source": [
    "history = model.fit(X_train, y_train, \n",
    "                    validation_data=(X_test, y_test),\n",
    "                    epochs=10, batch_size=64)"
   ]
  },
  {
   "cell_type": "markdown",
   "id": "b75354af",
   "metadata": {},
   "source": [
    "The history object returned by the model training above contains the values of the loss function (the mean-squared-error) at different epochs. We discard the first epoch as the loss value is very high, obscuring the rest of the distribution"
   ]
  },
  {
   "cell_type": "code",
   "execution_count": 90,
   "id": "312fafe3",
   "metadata": {},
   "outputs": [],
   "source": [
    "train_loss = history.history[\"loss\"][1:]\n",
    "test_loss = history.history[\"val_loss\"][1:]"
   ]
  },
  {
   "cell_type": "code",
   "execution_count": 91,
   "id": "08a4a3e3",
   "metadata": {},
   "outputs": [
    {
     "data": {
      "image/png": "[encoded data removed]",
      "text/plain": [
       "<Figure size 432x288 with 1 Axes>"
      ]
     },
     "metadata": {
      "needs_background": "light"
     },
     "output_type": "display_data"
    }
   ],
   "source": [
    "# Prepare and plot loss over time\n",
    "plt.plot(train_loss,label=\"train\")\n",
    "plt.plot(test_loss,label=\"test\")\n",
    "plt.legend()\n",
    "plt.xlabel(\"Epoch-1\")\n",
    "plt.ylabel(\"Loss\")\n",
    "plt.show()"
   ]
  },
  {
   "cell_type": "code",
   "execution_count": 92,
   "id": "bc029fe5",
   "metadata": {},
   "outputs": [
    {
     "name": "stdout",
     "output_type": "stream",
     "text": [
      "Correlation coefficient: 0.49419177800677894\n"
     ]
    },
    {
     "data": {
      "image/png": "[encoded data removed]",
      "text/plain": [
       "<Figure size 432x288 with 1 Axes>"
      ]
     },
     "metadata": {
      "needs_background": "light"
     },
     "output_type": "display_data"
    }
   ],
   "source": [
    "# After the training:\n",
    "\n",
    "# Prepare scatter plot\n",
    "y_pred = model.predict(X_test)[:,0]\n",
    "\n",
    "print(\"Correlation coefficient:\", np.corrcoef(y_pred,y_test)[0,1])\n",
    "plt.scatter(y_pred,y_test)\n",
    "plt.xlabel(\"Predicted\")\n",
    "plt.ylabel(\"True\")\n",
    "plt.show()"
   ]
  },
  {
   "cell_type": "code",
   "execution_count": 93,
   "id": "45298c86",
   "metadata": {},
   "outputs": [
    {
     "data": {
      "text/plain": [
       "array([[1.        , 0.49419178],\n",
       "       [0.49419178, 1.        ]])"
      ]
     },
     "execution_count": 93,
     "metadata": {},
     "output_type": "execute_result"
    }
   ],
   "source": [
    "np.corrcoef(y_pred,y_test)"
   ]
  },
  {
   "cell_type": "code",
   "execution_count": null,
   "id": "9b36a08a",
   "metadata": {},
   "outputs": [],
   "source": []
  },
  {
   "cell_type": "code",
   "execution_count": null,
   "id": "f7b2c46a",
   "metadata": {},
   "outputs": [],
   "source": []
  },
  {
   "cell_type": "code",
   "execution_count": null,
   "id": "df8eae54",
   "metadata": {},
   "outputs": [],
   "source": []
  }
 ],
 "metadata": {
  "kernelspec": {
   "display_name": "Python 3",
   "language": "python",
   "name": "python3"
  },
  "language_info": {
   "codemirror_mode": {
    "name": "ipython",
    "version": 3
   },
   "file_extension": ".py",
   "mimetype": "text/x-python",
   "name": "python",
   "nbconvert_exporter": "python",
   "pygments_lexer": "ipython3",
   "version": "3.8.10"
  }
 },
 "nbformat": 4,
 "nbformat_minor": 5
}
