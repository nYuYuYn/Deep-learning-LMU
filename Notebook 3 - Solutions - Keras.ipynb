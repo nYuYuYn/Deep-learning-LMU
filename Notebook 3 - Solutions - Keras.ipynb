{
 "cells": [
  {
   "cell_type": "markdown",
   "metadata": {},
   "source": [
    "# Linear regression using Keras\n",
    "\n",
    "In this task we will design and train a linear model using [Keras](https://keras.io/).\n",
    "\n",
    "### Tasks\n",
    "1. Implemetation a linear model using Keras\n",
    "2. Train the linear model for 80 epochs using stochastic gradient descent"
   ]
  },
  {
   "cell_type": "code",
   "execution_count": 2,
   "metadata": {},
   "outputs": [],
   "source": [
    "from tensorflow import keras\n",
    "import numpy as np\n",
    "import matplotlib.pyplot as plt\n",
    "layers = keras.layers"
   ]
  },
  {
   "cell_type": "markdown",
   "metadata": {},
   "source": [
    "### Simulation of data\n",
    "Let's first simulate some noisy data"
   ]
  },
  {
   "cell_type": "code",
   "execution_count": 3,
   "metadata": {},
   "outputs": [
    {
     "name": "stdout",
     "output_type": "stream",
     "text": [
      "x.shape: (100, 1)\n",
      "y.shape: (100,)\n"
     ]
    }
   ],
   "source": [
    "np.random.seed(1904)\n",
    "x = np.float32(np.linspace(-1, 1, 100)[:,np.newaxis])\n",
    "y = np.float32(2 * x[:,0] + 0.3 * np.random.randn(100))\n",
    "print(\"x.shape:\", x.shape)\n",
    "print(\"y.shape:\", y.shape)"
   ]
  },
  {
   "cell_type": "markdown",
   "metadata": {},
   "source": [
    "### Implement a linear model"
   ]
  },
  {
   "cell_type": "code",
   "execution_count": 5,
   "metadata": {
    "scrolled": false
   },
   "outputs": [
    {
     "name": "stdout",
     "output_type": "stream",
     "text": [
      "Model: \"sequential_1\"\n",
      "_________________________________________________________________\n",
      "Layer (type)                 Output Shape              Param #   \n",
      "=================================================================\n",
      "dense_1 (Dense)              (None, 1)                 2         \n",
      "=================================================================\n",
      "Total params: 2\n",
      "Trainable params: 2\n",
      "Non-trainable params: 0\n",
      "_________________________________________________________________\n",
      "None\n"
     ]
    }
   ],
   "source": [
    "model = keras.models.Sequential()\n",
    "model.add(layers.Dense(units=1, activation=\"linear\", input_dim=1))\n",
    "model.compile(optimizer='sgd', loss='mse')\n",
    "\n",
    "print(model.summary())"
   ]
  },
  {
   "cell_type": "markdown",
   "metadata": {},
   "source": [
    "### Train the model using stochastic gradient descent"
   ]
  },
  {
   "cell_type": "code",
   "execution_count": 6,
   "metadata": {
    "scrolled": false
   },
   "outputs": [
    {
     "name": "stdout",
     "output_type": "stream",
     "text": [
      "Epoch 1/80\n",
      "10/10 [==============================] - 0s 0s/step - loss: 1.1093\n",
      "Epoch 2/80\n",
      "10/10 [==============================] - 0s 0s/step - loss: 0.9771\n",
      "Epoch 3/80\n",
      "10/10 [==============================] - 0s 2ms/step - loss: 0.8624\n",
      "Epoch 4/80\n",
      "10/10 [==============================] - 0s 0s/step - loss: 0.7615\n",
      "Epoch 5/80\n",
      "10/10 [==============================] - 0s 0s/step - loss: 0.6739\n",
      "Epoch 6/80\n",
      "10/10 [==============================] - 0s 0s/step - loss: 0.5977\n",
      "Epoch 7/80\n",
      "10/10 [==============================] - 0s 0s/step - loss: 0.5311\n",
      "Epoch 8/80\n",
      "10/10 [==============================] - 0s 2ms/step - loss: 0.4737\n",
      "Epoch 9/80\n",
      "10/10 [==============================] - 0s 0s/step - loss: 0.4223\n",
      "Epoch 10/80\n",
      "10/10 [==============================] - 0s 0s/step - loss: 0.3784\n",
      "Epoch 11/80\n",
      "10/10 [==============================] - 0s 2ms/step - loss: 0.3402\n",
      "Epoch 12/80\n",
      "10/10 [==============================] - 0s 0s/step - loss: 0.3064\n",
      "Epoch 13/80\n",
      "10/10 [==============================] - 0s 0s/step - loss: 0.2773\n",
      "Epoch 14/80\n",
      "10/10 [==============================] - 0s 2ms/step - loss: 0.2523\n",
      "Epoch 15/80\n",
      "10/10 [==============================] - 0s 0s/step - loss: 0.2297\n",
      "Epoch 16/80\n",
      "10/10 [==============================] - 0s 0s/step - loss: 0.2099\n",
      "Epoch 17/80\n",
      "10/10 [==============================] - 0s 2ms/step - loss: 0.1933\n",
      "Epoch 18/80\n",
      "10/10 [==============================] - 0s 0s/step - loss: 0.1785\n",
      "Epoch 19/80\n",
      "10/10 [==============================] - 0s 2ms/step - loss: 0.1655\n",
      "Epoch 20/80\n",
      "10/10 [==============================] - 0s 0s/step - loss: 0.1543\n",
      "Epoch 21/80\n",
      "10/10 [==============================] - 0s 0s/step - loss: 0.1447\n",
      "Epoch 22/80\n",
      "10/10 [==============================] - 0s 2ms/step - loss: 0.1361\n",
      "Epoch 23/80\n",
      "10/10 [==============================] - 0s 0s/step - loss: 0.1285\n",
      "Epoch 24/80\n",
      "10/10 [==============================] - 0s 0s/step - loss: 0.1220\n",
      "Epoch 25/80\n",
      "10/10 [==============================] - 0s 0s/step - loss: 0.1164\n",
      "Epoch 26/80\n",
      "10/10 [==============================] - 0s 2ms/step - loss: 0.1115\n",
      "Epoch 27/80\n",
      "10/10 [==============================] - 0s 0s/step - loss: 0.1071\n",
      "Epoch 28/80\n",
      "10/10 [==============================] - 0s 0s/step - loss: 0.1033\n",
      "Epoch 29/80\n",
      "10/10 [==============================] - 0s 2ms/step - loss: 0.1001\n",
      "Epoch 30/80\n",
      "10/10 [==============================] - 0s 0s/step - loss: 0.0972\n",
      "Epoch 31/80\n",
      "10/10 [==============================] - 0s 0s/step - loss: 0.0947\n",
      "Epoch 32/80\n",
      "10/10 [==============================] - 0s 2ms/step - loss: 0.0925\n",
      "Epoch 33/80\n",
      "10/10 [==============================] - 0s 0s/step - loss: 0.0906\n",
      "Epoch 34/80\n",
      "10/10 [==============================] - 0s 0s/step - loss: 0.0890\n",
      "Epoch 35/80\n",
      "10/10 [==============================] - 0s 2ms/step - loss: 0.0875\n",
      "Epoch 36/80\n",
      "10/10 [==============================] - 0s 0s/step - loss: 0.0863\n",
      "Epoch 37/80\n",
      "10/10 [==============================] - 0s 0s/step - loss: 0.0851\n",
      "Epoch 38/80\n",
      "10/10 [==============================] - 0s 0s/step - loss: 0.0842\n",
      "Epoch 39/80\n",
      "10/10 [==============================] - 0s 0s/step - loss: 0.0835\n",
      "Epoch 40/80\n",
      "10/10 [==============================] - 0s 2ms/step - loss: 0.0826\n",
      "Epoch 41/80\n",
      "10/10 [==============================] - 0s 651us/step - loss: 0.0822\n",
      "Epoch 42/80\n",
      "10/10 [==============================] - 0s 0s/step - loss: 0.0815\n",
      "Epoch 43/80\n",
      "10/10 [==============================] - 0s 0s/step - loss: 0.0810\n",
      "Epoch 44/80\n",
      "10/10 [==============================] - 0s 2ms/step - loss: 0.0807\n",
      "Epoch 45/80\n",
      "10/10 [==============================] - 0s 0s/step - loss: 0.0802\n",
      "Epoch 46/80\n",
      "10/10 [==============================] - 0s 0s/step - loss: 0.0798\n",
      "Epoch 47/80\n",
      "10/10 [==============================] - 0s 0s/step - loss: 0.0796\n",
      "Epoch 48/80\n",
      "10/10 [==============================] - 0s 0s/step - loss: 0.0794\n",
      "Epoch 49/80\n",
      "10/10 [==============================] - 0s 2ms/step - loss: 0.0793\n",
      "Epoch 50/80\n",
      "10/10 [==============================] - 0s 0s/step - loss: 0.0790\n",
      "Epoch 51/80\n",
      "10/10 [==============================] - 0s 0s/step - loss: 0.0788\n",
      "Epoch 52/80\n",
      "10/10 [==============================] - 0s 0s/step - loss: 0.0787\n",
      "Epoch 53/80\n",
      "10/10 [==============================] - 0s 0s/step - loss: 0.0785\n",
      "Epoch 54/80\n",
      "10/10 [==============================] - 0s 2ms/step - loss: 0.0784\n",
      "Epoch 55/80\n",
      "10/10 [==============================] - 0s 0s/step - loss: 0.0783\n",
      "Epoch 56/80\n",
      "10/10 [==============================] - 0s 2ms/step - loss: 0.0782\n",
      "Epoch 57/80\n",
      "10/10 [==============================] - 0s 0s/step - loss: 0.0782\n",
      "Epoch 58/80\n",
      "10/10 [==============================] - 0s 0s/step - loss: 0.0781\n",
      "Epoch 59/80\n",
      "10/10 [==============================] - 0s 0s/step - loss: 0.0781\n",
      "Epoch 60/80\n",
      "10/10 [==============================] - 0s 2ms/step - loss: 0.0779\n",
      "Epoch 61/80\n",
      "10/10 [==============================] - 0s 0s/step - loss: 0.0780\n",
      "Epoch 62/80\n",
      "10/10 [==============================] - 0s 0s/step - loss: 0.0780\n",
      "Epoch 63/80\n",
      "10/10 [==============================] - 0s 2ms/step - loss: 0.0778\n",
      "Epoch 64/80\n",
      "10/10 [==============================] - 0s 0s/step - loss: 0.0778\n",
      "Epoch 65/80\n",
      "10/10 [==============================] - 0s 2ms/step - loss: 0.0778\n",
      "Epoch 66/80\n",
      "10/10 [==============================] - 0s 0s/step - loss: 0.0777\n",
      "Epoch 67/80\n",
      "10/10 [==============================] - 0s 0s/step - loss: 0.0778\n",
      "Epoch 68/80\n",
      "10/10 [==============================] - 0s 2ms/step - loss: 0.0777\n",
      "Epoch 69/80\n",
      "10/10 [==============================] - 0s 0s/step - loss: 0.0779\n",
      "Epoch 70/80\n",
      "10/10 [==============================] - 0s 0s/step - loss: 0.0778\n",
      "Epoch 71/80\n",
      "10/10 [==============================] - 0s 0s/step - loss: 0.0777\n",
      "Epoch 72/80\n",
      "10/10 [==============================] - 0s 0s/step - loss: 0.0777\n",
      "Epoch 73/80\n",
      "10/10 [==============================] - 0s 2ms/step - loss: 0.0778\n",
      "Epoch 74/80\n",
      "10/10 [==============================] - 0s 651us/step - loss: 0.0778\n",
      "Epoch 75/80\n",
      "10/10 [==============================] - 0s 0s/step - loss: 0.0779\n",
      "Epoch 76/80\n",
      "10/10 [==============================] - 0s 0s/step - loss: 0.0778\n",
      "Epoch 77/80\n",
      "10/10 [==============================] - 0s 2ms/step - loss: 0.0777\n",
      "Epoch 78/80\n",
      "10/10 [==============================] - 0s 0s/step - loss: 0.0777\n",
      "Epoch 79/80\n",
      "10/10 [==============================] - 0s 0s/step - loss: 0.0776\n",
      "Epoch 80/80\n",
      "10/10 [==============================] - 0s 0s/step - loss: 0.0777\n"
     ]
    },
    {
     "data": {
      "text/plain": [
       "<tensorflow.python.keras.callbacks.History at 0x23d4b089310>"
      ]
     },
     "execution_count": 6,
     "metadata": {},
     "output_type": "execute_result"
    }
   ],
   "source": [
    "model.fit(x, y, batch_size=10, epochs=80)"
   ]
  },
  {
   "cell_type": "markdown",
   "metadata": {},
   "source": [
    "### Performance of the fitted model\n",
    "Plot data and model after the training"
   ]
  },
  {
   "cell_type": "code",
   "execution_count": 7,
   "metadata": {},
   "outputs": [
    {
     "data": {
      "image/png": "[encoded data removed]",
      "text/plain": [
       "<Figure size 432x288 with 1 Axes>"
      ]
     },
     "metadata": {
      "needs_background": "light"
     },
     "output_type": "display_data"
    }
   ],
   "source": [
    "fig, ax = plt.subplots(1)\n",
    "\n",
    "y_pred = model(x)\n",
    "\n",
    "ax.plot(x, y, 'bo', label='data')\n",
    "ax.plot(x, y_pred, 'r-', label='model')\n",
    "ax.set(xlabel='$x$', ylabel='$y$')\n",
    "ax.grid()\n",
    "ax.legend(loc='lower right')\n",
    "plt.tight_layout()"
   ]
  },
  {
   "cell_type": "code",
   "execution_count": null,
   "metadata": {},
   "outputs": [],
   "source": []
  }
 ],
 "metadata": {
  "kernelspec": {
   "display_name": "Python 3",
   "language": "python",
   "name": "python3"
  },
  "language_info": {
   "codemirror_mode": {
    "name": "ipython",
    "version": 3
   },
   "file_extension": ".py",
   "mimetype": "text/x-python",
   "name": "python",
   "nbconvert_exporter": "python",
   "pygments_lexer": "ipython3",
   "version": "3.8.10"
  }
 },
 "nbformat": 4,
 "nbformat_minor": 4
}
