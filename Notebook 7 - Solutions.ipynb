{
 "cells": [
  {
   "cell_type": "markdown",
   "id": "d9ed70e1",
   "metadata": {},
   "source": [
    "# Classification of magnetic phases using a fully-connected neural network"
   ]
  },
  {
   "cell_type": "markdown",
   "id": "dbf0dde6",
   "metadata": {},
   "source": [
    "### Machine learning phases of matter"
   ]
  },
  {
   "cell_type": "markdown",
   "id": "2d15095d",
   "metadata": {},
   "source": [
    "Analysis based on a data set used in the paper *Machine learning phases of matter*, by Juan Carrasquilla & Roger G. Melko, published in *Nature Physics* in 2017: https://www.nature.com/articles/nphys4035\n",
    "\n",
    "Nature Physics, **13**, 431–434 (2017)"
   ]
  },
  {
   "cell_type": "markdown",
   "id": "d46e2bd5",
   "metadata": {},
   "source": [
    "### Data and task description"
   ]
  },
  {
   "cell_type": "markdown",
   "id": "291eff55",
   "metadata": {},
   "source": [
    "We consider a 2-dimensional square lattice of $n×n$ magnetic dipole moments (spins) that can be in one of two states (+1 or −1, Ising model). We assume that interactions between spins are of short ranged, i.e. each spin interacts only with its four neighbors. The probability to find a spin in one of the orientations is a function of temperature $T$ according to $ p∼ e^{−a/T} $, where $a=const$.\n",
    "\n",
    "At very low temperatures $T→0$, neighboring spins have a very low probability of different orientations, so that a uniform overall state (ferromagnetic state) is adopted, characterized by +1 or −1. At very high temperatures $T \\rightarrow \\infty $, a paramagnetic phase with random spin alignment results, yielding 50% of +1 and 50% of −1 orientations. Below a critical temperature $0<T<T_c$, stable ferromagnetic domains emerge, with both orientations being equally probable in the absence of an external magnetic field. The spin-spin correlation functions diverge at $T_c$, whereas the correlation funcitons decay for $T>T_c$.\n",
    "\n",
    "The data set for this task contains the $n×n$ dipole orientations on the lattice for different temperatures $T$. The task is to use a fully-connected neural network for classifying the two magnetic phases."
   ]
  },
  {
   "cell_type": "markdown",
   "id": "cbb88a6d",
   "metadata": {},
   "source": [
    "### Import data"
   ]
  },
  {
   "cell_type": "code",
   "execution_count": 23,
   "id": "751c0d63",
   "metadata": {},
   "outputs": [
    {
     "name": "stdout",
     "output_type": "stream",
     "text": [
      "keras 2.4.0\n"
     ]
    }
   ],
   "source": [
    "from tensorflow import keras\n",
    "import numpy as np\n",
    "callbacks = keras.callbacks\n",
    "layers = keras.layers\n",
    "\n",
    "print(\"keras\", keras.__version__)"
   ]
  },
  {
   "cell_type": "code",
   "execution_count": 24,
   "id": "c0f4bd07",
   "metadata": {},
   "outputs": [],
   "source": [
    "path = r\"C:\\Users\\Kepesidis\\Desktop\\Deep Learning for Physicists\\tutorials\\Tutorial 4\\ising_data.npz\"\n",
    "f = np.load(path, allow_pickle=True)\n",
    "n_train = 20000\n",
    "\n",
    "x_train, x_test = f[\"C\"][:n_train], f[\"C\"][n_train:]\n",
    "T_train, T_test = f[\"T\"][:n_train], f[\"T\"][n_train:]"
   ]
  },
  {
   "cell_type": "code",
   "execution_count": 25,
   "id": "93f2941d",
   "metadata": {},
   "outputs": [
    {
     "data": {
      "text/plain": [
       "(1.8000000000000007,\n",
       " array([[ 1.,  1.,  1., ...,  1.,  1.,  1.],\n",
       "        [ 1.,  1.,  1., ...,  1.,  1.,  1.],\n",
       "        [ 1.,  1.,  1., ...,  1.,  1.,  1.],\n",
       "        ...,\n",
       "        [ 1.,  1.,  1., ...,  1.,  1.,  1.],\n",
       "        [ 1.,  1.,  1., ...,  1., -1., -1.],\n",
       "        [ 1.,  1.,  1., ...,  1.,  1.,  1.]]))"
      ]
     },
     "execution_count": 25,
     "metadata": {},
     "output_type": "execute_result"
    }
   ],
   "source": [
    "k=1\n",
    "\n",
    "f[\"T\"][k], f[\"C\"][k]"
   ]
  },
  {
   "cell_type": "code",
   "execution_count": 27,
   "id": "6e6366e7",
   "metadata": {},
   "outputs": [
    {
     "data": {
      "image/png": "[encoded data removed]",
      "text/plain": [
       "<Figure size 432x288 with 6 Axes>"
      ]
     },
     "metadata": {
      "needs_background": "light"
     },
     "output_type": "display_data"
    }
   ],
   "source": [
    "import matplotlib.pyplot as plt\n",
    "\n",
    "for i,j in enumerate(np.random.choice(n_train, 6)):\n",
    "    plt.subplot(2,3,i+1)\n",
    "    image = x_train[j]\n",
    "    plot = plt.imshow(image)\n",
    "    plt.title(\"T= %.2f\" % T_train[j])\n",
    "\n",
    "plt.tight_layout()\n",
    "plt.show()"
   ]
  },
  {
   "cell_type": "code",
   "execution_count": 28,
   "id": "5e1b6712",
   "metadata": {},
   "outputs": [
    {
     "data": {
      "text/plain": [
       "Text(0, 0.5, 'frequency')"
      ]
     },
     "execution_count": 28,
     "metadata": {},
     "output_type": "execute_result"
    },
    {
     "data": {
      "image/png": "[encoded data removed]",
      "text/plain": [
       "<Figure size 432x288 with 1 Axes>"
      ]
     },
     "metadata": {
      "needs_background": "light"
     },
     "output_type": "display_data"
    }
   ],
   "source": [
    "plt.hist(T_train)\n",
    "plt.xlabel(\"T\")\n",
    "plt.ylabel(\"frequency\")"
   ]
  },
  {
   "cell_type": "code",
   "execution_count": 29,
   "id": "536a01f2",
   "metadata": {},
   "outputs": [
    {
     "data": {
      "text/plain": [
       "Text(0, 0.5, 'frequency')"
      ]
     },
     "execution_count": 29,
     "metadata": {},
     "output_type": "execute_result"
    },
    {
     "data": {
      "image/png": "[encoded data removed]",
      "text/plain": [
       "<Figure size 432x288 with 1 Axes>"
      ]
     },
     "metadata": {
      "needs_background": "light"
     },
     "output_type": "display_data"
    }
   ],
   "source": [
    "plt.hist(T_test)\n",
    "plt.xlabel(\"T\")\n",
    "plt.ylabel(\"frequency\")"
   ]
  },
  {
   "cell_type": "markdown",
   "id": "11f0f8b3",
   "metadata": {},
   "source": [
    "#### Definition of magnetic phases in the training set"
   ]
  },
  {
   "cell_type": "code",
   "execution_count": 31,
   "id": "0da6cb62",
   "metadata": {},
   "outputs": [],
   "source": [
    "Tc = 2.27\n",
    "y_train, y_test = T_train > Tc, T_test > Tc"
   ]
  },
  {
   "cell_type": "code",
   "execution_count": 32,
   "id": "6c4942ea",
   "metadata": {},
   "outputs": [
    {
     "data": {
      "text/plain": [
       "array([ True, False, False, ..., False,  True,  True])"
      ]
     },
     "execution_count": 32,
     "metadata": {},
     "output_type": "execute_result"
    }
   ],
   "source": [
    "y_train"
   ]
  },
  {
   "cell_type": "markdown",
   "id": "2029d581",
   "metadata": {},
   "source": [
    "### Tasks\n",
    "\n",
    "- Construct and train a fully-connected neural network (using Keras) for the classification of magnetic phases\n",
    "- Evaluate the network's performance on the test set\n",
    "- Plot the test accuracy as function of the temperature. What do you observe?"
   ]
  },
  {
   "cell_type": "markdown",
   "id": "cbbf702e",
   "metadata": {},
   "source": [
    "### 1. Design the network"
   ]
  },
  {
   "cell_type": "code",
   "execution_count": 33,
   "id": "aa42dec8",
   "metadata": {},
   "outputs": [
    {
     "name": "stdout",
     "output_type": "stream",
     "text": [
      "Model: \"sequential_2\"\n",
      "_________________________________________________________________\n",
      "Layer (type)                 Output Shape              Param #   \n",
      "=================================================================\n",
      "reshape_2 (Reshape)          (None, 1024)              0         \n",
      "_________________________________________________________________\n",
      "dense_6 (Dense)              (None, 32)                32800     \n",
      "_________________________________________________________________\n",
      "dropout_4 (Dropout)          (None, 32)                0         \n",
      "_________________________________________________________________\n",
      "dense_7 (Dense)              (None, 32)                1056      \n",
      "_________________________________________________________________\n",
      "dropout_5 (Dropout)          (None, 32)                0         \n",
      "_________________________________________________________________\n",
      "dense_8 (Dense)              (None, 1)                 33        \n",
      "=================================================================\n",
      "Total params: 33,889\n",
      "Trainable params: 33,889\n",
      "Non-trainable params: 0\n",
      "_________________________________________________________________\n"
     ]
    }
   ],
   "source": [
    "model = keras.models.Sequential()\n",
    "model.add(layers.InputLayer(input_shape=(32, 32, 1)))\n",
    "\n",
    "model.add(layers.Reshape((1024,)))\n",
    "\n",
    "#model.add(layers.Dense(32, activation='relu'))\n",
    "#model.add(layers.Dropout(0.3))\n",
    "model.add(layers.Dense(32, activation='relu'))\n",
    "model.add(layers.Dropout(0.3))\n",
    "model.add(layers.Dense(32, activation='relu'))\n",
    "model.add(layers.Dropout(0.3))\n",
    "#model.add(layers.Dense(32, activation='relu'))\n",
    "#model.add(layers.Dropout(0.3))\n",
    "model.add(layers.Dense(1, activation='sigmoid'))\n",
    "model.summary()"
   ]
  },
  {
   "cell_type": "markdown",
   "id": "efa0e91d",
   "metadata": {},
   "source": [
    "### 2. Compile the network"
   ]
  },
  {
   "cell_type": "code",
   "execution_count": 34,
   "id": "a056a95e",
   "metadata": {},
   "outputs": [],
   "source": [
    "model.compile(\n",
    "    loss='binary_crossentropy',\n",
    "    optimizer=keras.optimizers.Adam(0.001),\n",
    "    metrics=['accuracy'])"
   ]
  },
  {
   "cell_type": "markdown",
   "id": "e7ff4552",
   "metadata": {},
   "source": [
    "### 3. Train the network"
   ]
  },
  {
   "cell_type": "code",
   "execution_count": 35,
   "id": "9bb2bd84",
   "metadata": {},
   "outputs": [
    {
     "name": "stdout",
     "output_type": "stream",
     "text": [
      "Epoch 1/50\n",
      "282/282 - 0s - loss: 0.2552 - accuracy: 0.9019 - val_loss: 0.0850 - val_accuracy: 0.9720\n",
      "Epoch 2/50\n",
      "282/282 - 0s - loss: 0.1459 - accuracy: 0.9520 - val_loss: 0.0822 - val_accuracy: 0.9730\n",
      "Epoch 3/50\n",
      "282/282 - 0s - loss: 0.1171 - accuracy: 0.9638 - val_loss: 0.0934 - val_accuracy: 0.9745\n",
      "Epoch 4/50\n",
      "282/282 - 0s - loss: 0.0998 - accuracy: 0.9677 - val_loss: 0.0685 - val_accuracy: 0.9765\n",
      "Epoch 5/50\n",
      "282/282 - 0s - loss: 0.0882 - accuracy: 0.9717 - val_loss: 0.0677 - val_accuracy: 0.9765\n",
      "Epoch 6/50\n",
      "282/282 - 0s - loss: 0.0770 - accuracy: 0.9750 - val_loss: 0.0760 - val_accuracy: 0.9725\n",
      "Epoch 7/50\n",
      "\n",
      "Epoch 00007: ReduceLROnPlateau reducing learning rate to 0.0006700000318232924.\n",
      "282/282 - 0s - loss: 0.0679 - accuracy: 0.9777 - val_loss: 0.0754 - val_accuracy: 0.9730\n",
      "Epoch 8/50\n",
      "282/282 - 0s - loss: 0.0586 - accuracy: 0.9813 - val_loss: 0.0708 - val_accuracy: 0.9735\n",
      "Epoch 9/50\n",
      "\n",
      "Epoch 00009: ReduceLROnPlateau reducing learning rate to 0.0004489000252215192.\n",
      "282/282 - 0s - loss: 0.0535 - accuracy: 0.9822 - val_loss: 0.0770 - val_accuracy: 0.9705\n",
      "Epoch 10/50\n",
      "282/282 - 0s - loss: 0.0481 - accuracy: 0.9834 - val_loss: 0.0731 - val_accuracy: 0.9735\n",
      "Epoch 00010: early stopping\n"
     ]
    }
   ],
   "source": [
    "results = model.fit(x_train, y_train,\n",
    "                    batch_size=64,\n",
    "                    epochs=50,\n",
    "                    verbose=2,\n",
    "                    validation_split=0.1,\n",
    "                    callbacks=[\n",
    "                        callbacks.EarlyStopping(patience=5, verbose=1),\n",
    "                        callbacks.ReduceLROnPlateau(factor=0.67, patience=2, verbose=1)]\n",
    "                    )"
   ]
  },
  {
   "cell_type": "markdown",
   "id": "794c5274",
   "metadata": {},
   "source": [
    "### 4. Monitor performance"
   ]
  },
  {
   "cell_type": "code",
   "execution_count": 36,
   "id": "51a20c4b",
   "metadata": {},
   "outputs": [
    {
     "data": {
      "text/plain": [
       "<matplotlib.legend.Legend at 0x1f2c46f40d0>"
      ]
     },
     "execution_count": 36,
     "metadata": {},
     "output_type": "execute_result"
    },
    {
     "data": {
      "image/png": "[encoded data removed]",
      "text/plain": [
       "<Figure size 864x288 with 1 Axes>"
      ]
     },
     "metadata": {
      "needs_background": "light"
     },
     "output_type": "display_data"
    }
   ],
   "source": [
    "plt.figure(1, (12, 4))\n",
    "plt.subplot(1, 2, 1)\n",
    "plt.plot(results.history['loss'])\n",
    "plt.plot(results.history['val_loss'])\n",
    "plt.ylabel('loss')\n",
    "plt.xlabel('epoch')\n",
    "plt.legend(['train', 'val'], loc='upper right')"
   ]
  },
  {
   "cell_type": "code",
   "execution_count": 37,
   "id": "6f32315c",
   "metadata": {},
   "outputs": [
    {
     "data": {
      "text/plain": [
       "<matplotlib.legend.Legend at 0x1f2c5714760>"
      ]
     },
     "execution_count": 37,
     "metadata": {},
     "output_type": "execute_result"
    },
    {
     "data": {
      "image/png": "[encoded data removed]",
      "text/plain": [
       "<Figure size 864x288 with 1 Axes>"
      ]
     },
     "metadata": {
      "needs_background": "light"
     },
     "output_type": "display_data"
    }
   ],
   "source": [
    "plt.figure(1, (12, 4))\n",
    "plt.subplot(1, 2, 1)\n",
    "plt.plot(results.history['accuracy'])\n",
    "plt.plot(results.history['val_accuracy'])\n",
    "plt.ylabel('accuracy')\n",
    "plt.xlabel('epoch')\n",
    "plt.legend(['train', 'val'], loc='upper right')"
   ]
  },
  {
   "cell_type": "markdown",
   "id": "34ae3952",
   "metadata": {},
   "source": [
    "### 5. Model evaluation on the test set"
   ]
  },
  {
   "cell_type": "code",
   "execution_count": 38,
   "id": "2eeec2c4",
   "metadata": {},
   "outputs": [],
   "source": [
    "a = model.evaluate(x_test, y_test, verbose=0)"
   ]
  },
  {
   "cell_type": "code",
   "execution_count": 39,
   "id": "59454b38",
   "metadata": {},
   "outputs": [
    {
     "data": {
      "text/plain": [
       "<matplotlib.lines.Line2D at 0x1f2c3f17160>"
      ]
     },
     "execution_count": 39,
     "metadata": {},
     "output_type": "execute_result"
    },
    {
     "data": {
      "image/png": "[encoded data removed]",
      "text/plain": [
       "<Figure size 432x288 with 1 Axes>"
      ]
     },
     "metadata": {
      "needs_background": "light"
     },
     "output_type": "display_data"
    }
   ],
   "source": [
    "import seaborn as sns\n",
    "\n",
    "preds = model.predict(x_test).round().squeeze()\n",
    "acc = (preds == y_test).astype(float)\n",
    "\n",
    "ax = sns.regplot(x=T_test, y=acc, x_estimator= np.mean, fit_reg=False)\n",
    "ax.set_ylabel(\"accuracy\")\n",
    "ax.set_xlabel(\"T\")\n",
    "plt.axvline(x=Tc, color='k', linestyle='--', label='Tc')"
   ]
  },
  {
   "cell_type": "code",
   "execution_count": null,
   "id": "b2558984",
   "metadata": {},
   "outputs": [],
   "source": []
  },
  {
   "cell_type": "code",
   "execution_count": null,
   "id": "adaebb57",
   "metadata": {},
   "outputs": [],
   "source": []
  }
 ],
 "metadata": {
  "kernelspec": {
   "display_name": "Python 3",
   "language": "python",
   "name": "python3"
  },
  "language_info": {
   "codemirror_mode": {
    "name": "ipython",
    "version": 3
   },
   "file_extension": ".py",
   "mimetype": "text/x-python",
   "name": "python",
   "nbconvert_exporter": "python",
   "pygments_lexer": "ipython3",
   "version": "3.8.10"
  }
 },
 "nbformat": 4,
 "nbformat_minor": 5
}
